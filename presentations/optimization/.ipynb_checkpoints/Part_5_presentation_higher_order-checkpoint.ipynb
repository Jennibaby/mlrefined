{
 "cells": [
  {
   "cell_type": "code",
   "execution_count": 3,
   "metadata": {
    "slideshow": {
     "slide_type": "skip"
    }
   },
   "outputs": [
    {
     "name": "stdout",
     "output_type": "stream",
     "text": [
      "The autoreload extension is already loaded. To reload it, use:\n",
      "  %reload_ext autoreload\n"
     ]
    }
   ],
   "source": [
    "# imports from custom library\n",
    "import sys\n",
    "sys.path.append('../../')\n",
    "import matplotlib.pyplot as plt\n",
    "from mlrefined_libraries import superlearn_library as superlearn\n",
    "from mlrefined_libraries import calculus_library as callib\n",
    "from mlrefined_libraries import math_optimization_library as optlib\n",
    "import autograd.numpy as np\n",
    "import math\n",
    "import pandas as pd\n",
    "from mlrefined_libraries import calculus_library as calclib\n",
    "\n",
    "%matplotlib notebook\n",
    "\n",
    "# this is needed to compensate for %matplotlib notebook's tendancy to blow up images when plotted inline\n",
    "from matplotlib import rcParams\n",
    "rcParams['figure.autolayout'] = True\n",
    "\n",
    "%load_ext autoreload\n",
    "%autoreload 2"
   ]
  },
  {
   "cell_type": "markdown",
   "metadata": {
    "slideshow": {
     "slide_type": "slide"
    }
   },
   "source": [
    "# Part 5: Higher order derivatives"
   ]
  },
  {
   "cell_type": "markdown",
   "metadata": {
    "collapsed": true,
    "slideshow": {
     "slide_type": "subslide"
    }
   },
   "source": [
    "We have seen how we can compute formula for the derivative of a generic function constructed out of elementary functions and operations, and that this derivative too is a generic function constructed out of elementary functions / operations. "
   ]
  },
  {
   "cell_type": "markdown",
   "metadata": {
    "slideshow": {
     "slide_type": "fragment"
    }
   },
   "source": [
    "Because the derivative is a generic function it is natural to ask - what happens if we take *its* derivative?  "
   ]
  },
  {
   "cell_type": "markdown",
   "metadata": {
    "slideshow": {
     "slide_type": "fragment"
    }
   },
   "source": [
    "By the same logic and rules, we should be able to compute it in a similar manner, and for the same reasons it too should be a generic function with known equation.  In turn we should then be able to compute the derivative of this formula, and so on ad infinitum.  "
   ]
  },
  {
   "cell_type": "markdown",
   "metadata": {
    "slideshow": {
     "slide_type": "fragment"
    }
   },
   "source": [
    "These 'derivatives of derivatives' are referred to commonly as *higher order derivatives*, and are our current subject."
   ]
  },
  {
   "cell_type": "markdown",
   "metadata": {
    "slideshow": {
     "slide_type": "subslide"
    }
   },
   "source": [
    "Press the botton 'Toggle code' below to toggle code on and off for entire this presentation.  For this presentation it is recommended to keep the code ON for Section 2 where Automatic Differentiation is discussed."
   ]
  },
  {
   "cell_type": "code",
   "execution_count": null,
   "metadata": {
    "collapsed": true,
    "slideshow": {
     "slide_type": "fragment"
    }
   },
   "outputs": [],
   "source": [
    "from IPython.display import display\n",
    "from IPython.display import HTML\n",
    "import IPython.core.display as di # Example: di.display_html('<h3>%s:</h3>' % str, raw=True)\n",
    "\n",
    "# This line will hide code by default when the notebook is exported as HTML\n",
    "di.display_html('<script>jQuery(function() {if (jQuery(\"body.notebook_app\").length == 0) { jQuery(\".input_area\").toggle(); jQuery(\".prompt\").toggle();}});</script>', raw=True)\n",
    "\n",
    "# This line will add a button to toggle visibility of code blocks, for use with the HTML export version\n",
    "di.display_html('''<button onclick=\"jQuery('.input_area').toggle(); jQuery('.prompt').toggle();\">Toggle code</button>''', raw=True)"
   ]
  },
  {
   "cell_type": "markdown",
   "metadata": {
    "slideshow": {
     "slide_type": "slide"
    }
   },
   "source": [
    "# 1.  Higher order derivatives "
   ]
  },
  {
   "cell_type": "markdown",
   "metadata": {
    "slideshow": {
     "slide_type": "subslide"
    }
   },
   "source": [
    "If the derivative of a function with an equation is itself an equation, then we can take the derivative of the derivative.  \n",
    "\n",
    "Lets start off by looking at a few examples to get a sense of how this works, and some of the new notation we will use to denote higher order derivatives.  \n",
    "\n",
    "Afterwards we can see how to use the Automatic Differentiation calculator we discussed in the previous post to compute derivatives of any order."
   ]
  },
  {
   "cell_type": "markdown",
   "metadata": {
    "slideshow": {
     "slide_type": "slide"
    }
   },
   "source": [
    "## 1.1 Higher order derivatives by example"
   ]
  },
  {
   "cell_type": "markdown",
   "metadata": {
    "slideshow": {
     "slide_type": "subslide"
    }
   },
   "source": [
    "#### <span style=\"color:#a50e3e;\">Example 1. </span> Higher order derivatives of $g(w) = w^4$"
   ]
  },
  {
   "cell_type": "markdown",
   "metadata": {
    "slideshow": {
     "slide_type": "fragment"
    }
   },
   "source": [
    "The power rule gives\n",
    "\n",
    "\\begin{equation}\n",
    "\\frac{\\mathrm{d}}{\\mathrm{d}w}g(w) = 4\\cdot w^3.\n",
    "\\end{equation}|"
   ]
  },
  {
   "cell_type": "markdown",
   "metadata": {
    "slideshow": {
     "slide_type": "fragment"
    }
   },
   "source": [
    "The derivate here is just another monomial - another function - and we can compute its derivative just as easily as we did $g(w)$ to begin with.  It is\n",
    "\n",
    "\\begin{equation}\n",
    "\\frac{\\mathrm{d}}{\\mathrm{d}w}\\left(\\frac{\\mathrm{d}}{\\mathrm{d}w}g(w)\\right) = 3\\cdot4\\cdot w^2\n",
    "\\end{equation}"
   ]
  },
  {
   "cell_type": "markdown",
   "metadata": {
    "slideshow": {
     "slide_type": "subslide"
    }
   },
   "source": [
    "And we can of course take the derivative of this as well using the same rules, doing so we get\n",
    "\n",
    "\\begin{equation}\n",
    "\\frac{\\mathrm{d}}{\\mathrm{d}w}\\left(\\frac{\\mathrm{d}}{\\mathrm{d}w}\\left(\\frac{\\mathrm{d}}{\\mathrm{d}w}g(w)\\right)\\right) = 2\\cdot3\\cdot4\\cdot w\n",
    "\\end{equation}"
   ]
  },
  {
   "cell_type": "markdown",
   "metadata": {
    "slideshow": {
     "slide_type": "fragment"
    }
   },
   "source": [
    "which is the *third derivative*.  One more time?  Using the same derivative rules we can compute the *fourth derivative* here which is \n",
    "\n",
    "\\begin{equation}\n",
    "\\frac{\\mathrm{d}}{\\mathrm{d}w}\\left(\\frac{\\mathrm{d}}{\\mathrm{d}w}\\left(\\frac{\\mathrm{d}}{\\mathrm{d}w}\\left(\\frac{\\mathrm{d}}{\\mathrm{d}w}g(w)\\right)\\right)\\right) = 1\\cdot2\\cdot3\\cdot4\n",
    "\\end{equation}"
   ]
  },
  {
   "cell_type": "markdown",
   "metadata": {
    "slideshow": {
     "slide_type": "subslide"
    }
   },
   "source": [
    "Below we plot the original function, along with its first three derivatives."
   ]
  },
  {
   "cell_type": "code",
   "execution_count": 7,
   "metadata": {
    "slideshow": {
     "slide_type": "fragment"
    }
   },
   "outputs": [
    {
     "data": {
      "application/javascript": [
       "/* Put everything inside the global mpl namespace */\n",
       "window.mpl = {};\n",
       "\n",
       "\n",
       "mpl.get_websocket_type = function() {\n",
       "    if (typeof(WebSocket) !== 'undefined') {\n",
       "        return WebSocket;\n",
       "    } else if (typeof(MozWebSocket) !== 'undefined') {\n",
       "        return MozWebSocket;\n",
       "    } else {\n",
       "        alert('Your browser does not have WebSocket support.' +\n",
       "              'Please try Chrome, Safari or Firefox ≥ 6. ' +\n",
       "              'Firefox 4 and 5 are also supported but you ' +\n",
       "              'have to enable WebSockets in about:config.');\n",
       "    };\n",
       "}\n",
       "\n",
       "mpl.figure = function(figure_id, websocket, ondownload, parent_element) {\n",
       "    this.id = figure_id;\n",
       "\n",
       "    this.ws = websocket;\n",
       "\n",
       "    this.supports_binary = (this.ws.binaryType != undefined);\n",
       "\n",
       "    if (!this.supports_binary) {\n",
       "        var warnings = document.getElementById(\"mpl-warnings\");\n",
       "        if (warnings) {\n",
       "            warnings.style.display = 'block';\n",
       "            warnings.textContent = (\n",
       "                \"This browser does not support binary websocket messages. \" +\n",
       "                    \"Performance may be slow.\");\n",
       "        }\n",
       "    }\n",
       "\n",
       "    this.imageObj = new Image();\n",
       "\n",
       "    this.context = undefined;\n",
       "    this.message = undefined;\n",
       "    this.canvas = undefined;\n",
       "    this.rubberband_canvas = undefined;\n",
       "    this.rubberband_context = undefined;\n",
       "    this.format_dropdown = undefined;\n",
       "\n",
       "    this.image_mode = 'full';\n",
       "\n",
       "    this.root = $('<div/>');\n",
       "    this._root_extra_style(this.root)\n",
       "    this.root.attr('style', 'display: inline-block');\n",
       "\n",
       "    $(parent_element).append(this.root);\n",
       "\n",
       "    this._init_header(this);\n",
       "    this._init_canvas(this);\n",
       "    this._init_toolbar(this);\n",
       "\n",
       "    var fig = this;\n",
       "\n",
       "    this.waiting = false;\n",
       "\n",
       "    this.ws.onopen =  function () {\n",
       "            fig.send_message(\"supports_binary\", {value: fig.supports_binary});\n",
       "            fig.send_message(\"send_image_mode\", {});\n",
       "            if (mpl.ratio != 1) {\n",
       "                fig.send_message(\"set_dpi_ratio\", {'dpi_ratio': mpl.ratio});\n",
       "            }\n",
       "            fig.send_message(\"refresh\", {});\n",
       "        }\n",
       "\n",
       "    this.imageObj.onload = function() {\n",
       "            if (fig.image_mode == 'full') {\n",
       "                // Full images could contain transparency (where diff images\n",
       "                // almost always do), so we need to clear the canvas so that\n",
       "                // there is no ghosting.\n",
       "                fig.context.clearRect(0, 0, fig.canvas.width, fig.canvas.height);\n",
       "            }\n",
       "            fig.context.drawImage(fig.imageObj, 0, 0);\n",
       "        };\n",
       "\n",
       "    this.imageObj.onunload = function() {\n",
       "        this.ws.close();\n",
       "    }\n",
       "\n",
       "    this.ws.onmessage = this._make_on_message_function(this);\n",
       "\n",
       "    this.ondownload = ondownload;\n",
       "}\n",
       "\n",
       "mpl.figure.prototype._init_header = function() {\n",
       "    var titlebar = $(\n",
       "        '<div class=\"ui-dialog-titlebar ui-widget-header ui-corner-all ' +\n",
       "        'ui-helper-clearfix\"/>');\n",
       "    var titletext = $(\n",
       "        '<div class=\"ui-dialog-title\" style=\"width: 100%; ' +\n",
       "        'text-align: center; padding: 3px;\"/>');\n",
       "    titlebar.append(titletext)\n",
       "    this.root.append(titlebar);\n",
       "    this.header = titletext[0];\n",
       "}\n",
       "\n",
       "\n",
       "\n",
       "mpl.figure.prototype._canvas_extra_style = function(canvas_div) {\n",
       "\n",
       "}\n",
       "\n",
       "\n",
       "mpl.figure.prototype._root_extra_style = function(canvas_div) {\n",
       "\n",
       "}\n",
       "\n",
       "mpl.figure.prototype._init_canvas = function() {\n",
       "    var fig = this;\n",
       "\n",
       "    var canvas_div = $('<div/>');\n",
       "\n",
       "    canvas_div.attr('style', 'position: relative; clear: both; outline: 0');\n",
       "\n",
       "    function canvas_keyboard_event(event) {\n",
       "        return fig.key_event(event, event['data']);\n",
       "    }\n",
       "\n",
       "    canvas_div.keydown('key_press', canvas_keyboard_event);\n",
       "    canvas_div.keyup('key_release', canvas_keyboard_event);\n",
       "    this.canvas_div = canvas_div\n",
       "    this._canvas_extra_style(canvas_div)\n",
       "    this.root.append(canvas_div);\n",
       "\n",
       "    var canvas = $('<canvas/>');\n",
       "    canvas.addClass('mpl-canvas');\n",
       "    canvas.attr('style', \"left: 0; top: 0; z-index: 0; outline: 0\")\n",
       "\n",
       "    this.canvas = canvas[0];\n",
       "    this.context = canvas[0].getContext(\"2d\");\n",
       "\n",
       "    var backingStore = this.context.backingStorePixelRatio ||\n",
       "\tthis.context.webkitBackingStorePixelRatio ||\n",
       "\tthis.context.mozBackingStorePixelRatio ||\n",
       "\tthis.context.msBackingStorePixelRatio ||\n",
       "\tthis.context.oBackingStorePixelRatio ||\n",
       "\tthis.context.backingStorePixelRatio || 1;\n",
       "\n",
       "    mpl.ratio = (window.devicePixelRatio || 1) / backingStore;\n",
       "\n",
       "    var rubberband = $('<canvas/>');\n",
       "    rubberband.attr('style', \"position: absolute; left: 0; top: 0; z-index: 1;\")\n",
       "\n",
       "    var pass_mouse_events = true;\n",
       "\n",
       "    canvas_div.resizable({\n",
       "        start: function(event, ui) {\n",
       "            pass_mouse_events = false;\n",
       "        },\n",
       "        resize: function(event, ui) {\n",
       "            fig.request_resize(ui.size.width, ui.size.height);\n",
       "        },\n",
       "        stop: function(event, ui) {\n",
       "            pass_mouse_events = true;\n",
       "            fig.request_resize(ui.size.width, ui.size.height);\n",
       "        },\n",
       "    });\n",
       "\n",
       "    function mouse_event_fn(event) {\n",
       "        if (pass_mouse_events)\n",
       "            return fig.mouse_event(event, event['data']);\n",
       "    }\n",
       "\n",
       "    rubberband.mousedown('button_press', mouse_event_fn);\n",
       "    rubberband.mouseup('button_release', mouse_event_fn);\n",
       "    // Throttle sequential mouse events to 1 every 20ms.\n",
       "    rubberband.mousemove('motion_notify', mouse_event_fn);\n",
       "\n",
       "    rubberband.mouseenter('figure_enter', mouse_event_fn);\n",
       "    rubberband.mouseleave('figure_leave', mouse_event_fn);\n",
       "\n",
       "    canvas_div.on(\"wheel\", function (event) {\n",
       "        event = event.originalEvent;\n",
       "        event['data'] = 'scroll'\n",
       "        if (event.deltaY < 0) {\n",
       "            event.step = 1;\n",
       "        } else {\n",
       "            event.step = -1;\n",
       "        }\n",
       "        mouse_event_fn(event);\n",
       "    });\n",
       "\n",
       "    canvas_div.append(canvas);\n",
       "    canvas_div.append(rubberband);\n",
       "\n",
       "    this.rubberband = rubberband;\n",
       "    this.rubberband_canvas = rubberband[0];\n",
       "    this.rubberband_context = rubberband[0].getContext(\"2d\");\n",
       "    this.rubberband_context.strokeStyle = \"#000000\";\n",
       "\n",
       "    this._resize_canvas = function(width, height) {\n",
       "        // Keep the size of the canvas, canvas container, and rubber band\n",
       "        // canvas in synch.\n",
       "        canvas_div.css('width', width)\n",
       "        canvas_div.css('height', height)\n",
       "\n",
       "        canvas.attr('width', width * mpl.ratio);\n",
       "        canvas.attr('height', height * mpl.ratio);\n",
       "        canvas.attr('style', 'width: ' + width + 'px; height: ' + height + 'px;');\n",
       "\n",
       "        rubberband.attr('width', width);\n",
       "        rubberband.attr('height', height);\n",
       "    }\n",
       "\n",
       "    // Set the figure to an initial 600x600px, this will subsequently be updated\n",
       "    // upon first draw.\n",
       "    this._resize_canvas(600, 600);\n",
       "\n",
       "    // Disable right mouse context menu.\n",
       "    $(this.rubberband_canvas).bind(\"contextmenu\",function(e){\n",
       "        return false;\n",
       "    });\n",
       "\n",
       "    function set_focus () {\n",
       "        canvas.focus();\n",
       "        canvas_div.focus();\n",
       "    }\n",
       "\n",
       "    window.setTimeout(set_focus, 100);\n",
       "}\n",
       "\n",
       "mpl.figure.prototype._init_toolbar = function() {\n",
       "    var fig = this;\n",
       "\n",
       "    var nav_element = $('<div/>')\n",
       "    nav_element.attr('style', 'width: 100%');\n",
       "    this.root.append(nav_element);\n",
       "\n",
       "    // Define a callback function for later on.\n",
       "    function toolbar_event(event) {\n",
       "        return fig.toolbar_button_onclick(event['data']);\n",
       "    }\n",
       "    function toolbar_mouse_event(event) {\n",
       "        return fig.toolbar_button_onmouseover(event['data']);\n",
       "    }\n",
       "\n",
       "    for(var toolbar_ind in mpl.toolbar_items) {\n",
       "        var name = mpl.toolbar_items[toolbar_ind][0];\n",
       "        var tooltip = mpl.toolbar_items[toolbar_ind][1];\n",
       "        var image = mpl.toolbar_items[toolbar_ind][2];\n",
       "        var method_name = mpl.toolbar_items[toolbar_ind][3];\n",
       "\n",
       "        if (!name) {\n",
       "            // put a spacer in here.\n",
       "            continue;\n",
       "        }\n",
       "        var button = $('<button/>');\n",
       "        button.addClass('ui-button ui-widget ui-state-default ui-corner-all ' +\n",
       "                        'ui-button-icon-only');\n",
       "        button.attr('role', 'button');\n",
       "        button.attr('aria-disabled', 'false');\n",
       "        button.click(method_name, toolbar_event);\n",
       "        button.mouseover(tooltip, toolbar_mouse_event);\n",
       "\n",
       "        var icon_img = $('<span/>');\n",
       "        icon_img.addClass('ui-button-icon-primary ui-icon');\n",
       "        icon_img.addClass(image);\n",
       "        icon_img.addClass('ui-corner-all');\n",
       "\n",
       "        var tooltip_span = $('<span/>');\n",
       "        tooltip_span.addClass('ui-button-text');\n",
       "        tooltip_span.html(tooltip);\n",
       "\n",
       "        button.append(icon_img);\n",
       "        button.append(tooltip_span);\n",
       "\n",
       "        nav_element.append(button);\n",
       "    }\n",
       "\n",
       "    var fmt_picker_span = $('<span/>');\n",
       "\n",
       "    var fmt_picker = $('<select/>');\n",
       "    fmt_picker.addClass('mpl-toolbar-option ui-widget ui-widget-content');\n",
       "    fmt_picker_span.append(fmt_picker);\n",
       "    nav_element.append(fmt_picker_span);\n",
       "    this.format_dropdown = fmt_picker[0];\n",
       "\n",
       "    for (var ind in mpl.extensions) {\n",
       "        var fmt = mpl.extensions[ind];\n",
       "        var option = $(\n",
       "            '<option/>', {selected: fmt === mpl.default_extension}).html(fmt);\n",
       "        fmt_picker.append(option)\n",
       "    }\n",
       "\n",
       "    // Add hover states to the ui-buttons\n",
       "    $( \".ui-button\" ).hover(\n",
       "        function() { $(this).addClass(\"ui-state-hover\");},\n",
       "        function() { $(this).removeClass(\"ui-state-hover\");}\n",
       "    );\n",
       "\n",
       "    var status_bar = $('<span class=\"mpl-message\"/>');\n",
       "    nav_element.append(status_bar);\n",
       "    this.message = status_bar[0];\n",
       "}\n",
       "\n",
       "mpl.figure.prototype.request_resize = function(x_pixels, y_pixels) {\n",
       "    // Request matplotlib to resize the figure. Matplotlib will then trigger a resize in the client,\n",
       "    // which will in turn request a refresh of the image.\n",
       "    this.send_message('resize', {'width': x_pixels, 'height': y_pixels});\n",
       "}\n",
       "\n",
       "mpl.figure.prototype.send_message = function(type, properties) {\n",
       "    properties['type'] = type;\n",
       "    properties['figure_id'] = this.id;\n",
       "    this.ws.send(JSON.stringify(properties));\n",
       "}\n",
       "\n",
       "mpl.figure.prototype.send_draw_message = function() {\n",
       "    if (!this.waiting) {\n",
       "        this.waiting = true;\n",
       "        this.ws.send(JSON.stringify({type: \"draw\", figure_id: this.id}));\n",
       "    }\n",
       "}\n",
       "\n",
       "\n",
       "mpl.figure.prototype.handle_save = function(fig, msg) {\n",
       "    var format_dropdown = fig.format_dropdown;\n",
       "    var format = format_dropdown.options[format_dropdown.selectedIndex].value;\n",
       "    fig.ondownload(fig, format);\n",
       "}\n",
       "\n",
       "\n",
       "mpl.figure.prototype.handle_resize = function(fig, msg) {\n",
       "    var size = msg['size'];\n",
       "    if (size[0] != fig.canvas.width || size[1] != fig.canvas.height) {\n",
       "        fig._resize_canvas(size[0], size[1]);\n",
       "        fig.send_message(\"refresh\", {});\n",
       "    };\n",
       "}\n",
       "\n",
       "mpl.figure.prototype.handle_rubberband = function(fig, msg) {\n",
       "    var x0 = msg['x0'] / mpl.ratio;\n",
       "    var y0 = (fig.canvas.height - msg['y0']) / mpl.ratio;\n",
       "    var x1 = msg['x1'] / mpl.ratio;\n",
       "    var y1 = (fig.canvas.height - msg['y1']) / mpl.ratio;\n",
       "    x0 = Math.floor(x0) + 0.5;\n",
       "    y0 = Math.floor(y0) + 0.5;\n",
       "    x1 = Math.floor(x1) + 0.5;\n",
       "    y1 = Math.floor(y1) + 0.5;\n",
       "    var min_x = Math.min(x0, x1);\n",
       "    var min_y = Math.min(y0, y1);\n",
       "    var width = Math.abs(x1 - x0);\n",
       "    var height = Math.abs(y1 - y0);\n",
       "\n",
       "    fig.rubberband_context.clearRect(\n",
       "        0, 0, fig.canvas.width, fig.canvas.height);\n",
       "\n",
       "    fig.rubberband_context.strokeRect(min_x, min_y, width, height);\n",
       "}\n",
       "\n",
       "mpl.figure.prototype.handle_figure_label = function(fig, msg) {\n",
       "    // Updates the figure title.\n",
       "    fig.header.textContent = msg['label'];\n",
       "}\n",
       "\n",
       "mpl.figure.prototype.handle_cursor = function(fig, msg) {\n",
       "    var cursor = msg['cursor'];\n",
       "    switch(cursor)\n",
       "    {\n",
       "    case 0:\n",
       "        cursor = 'pointer';\n",
       "        break;\n",
       "    case 1:\n",
       "        cursor = 'default';\n",
       "        break;\n",
       "    case 2:\n",
       "        cursor = 'crosshair';\n",
       "        break;\n",
       "    case 3:\n",
       "        cursor = 'move';\n",
       "        break;\n",
       "    }\n",
       "    fig.rubberband_canvas.style.cursor = cursor;\n",
       "}\n",
       "\n",
       "mpl.figure.prototype.handle_message = function(fig, msg) {\n",
       "    fig.message.textContent = msg['message'];\n",
       "}\n",
       "\n",
       "mpl.figure.prototype.handle_draw = function(fig, msg) {\n",
       "    // Request the server to send over a new figure.\n",
       "    fig.send_draw_message();\n",
       "}\n",
       "\n",
       "mpl.figure.prototype.handle_image_mode = function(fig, msg) {\n",
       "    fig.image_mode = msg['mode'];\n",
       "}\n",
       "\n",
       "mpl.figure.prototype.updated_canvas_event = function() {\n",
       "    // Called whenever the canvas gets updated.\n",
       "    this.send_message(\"ack\", {});\n",
       "}\n",
       "\n",
       "// A function to construct a web socket function for onmessage handling.\n",
       "// Called in the figure constructor.\n",
       "mpl.figure.prototype._make_on_message_function = function(fig) {\n",
       "    return function socket_on_message(evt) {\n",
       "        if (evt.data instanceof Blob) {\n",
       "            /* FIXME: We get \"Resource interpreted as Image but\n",
       "             * transferred with MIME type text/plain:\" errors on\n",
       "             * Chrome.  But how to set the MIME type?  It doesn't seem\n",
       "             * to be part of the websocket stream */\n",
       "            evt.data.type = \"image/png\";\n",
       "\n",
       "            /* Free the memory for the previous frames */\n",
       "            if (fig.imageObj.src) {\n",
       "                (window.URL || window.webkitURL).revokeObjectURL(\n",
       "                    fig.imageObj.src);\n",
       "            }\n",
       "\n",
       "            fig.imageObj.src = (window.URL || window.webkitURL).createObjectURL(\n",
       "                evt.data);\n",
       "            fig.updated_canvas_event();\n",
       "            fig.waiting = false;\n",
       "            return;\n",
       "        }\n",
       "        else if (typeof evt.data === 'string' && evt.data.slice(0, 21) == \"data:image/png;base64\") {\n",
       "            fig.imageObj.src = evt.data;\n",
       "            fig.updated_canvas_event();\n",
       "            fig.waiting = false;\n",
       "            return;\n",
       "        }\n",
       "\n",
       "        var msg = JSON.parse(evt.data);\n",
       "        var msg_type = msg['type'];\n",
       "\n",
       "        // Call the  \"handle_{type}\" callback, which takes\n",
       "        // the figure and JSON message as its only arguments.\n",
       "        try {\n",
       "            var callback = fig[\"handle_\" + msg_type];\n",
       "        } catch (e) {\n",
       "            console.log(\"No handler for the '\" + msg_type + \"' message type: \", msg);\n",
       "            return;\n",
       "        }\n",
       "\n",
       "        if (callback) {\n",
       "            try {\n",
       "                // console.log(\"Handling '\" + msg_type + \"' message: \", msg);\n",
       "                callback(fig, msg);\n",
       "            } catch (e) {\n",
       "                console.log(\"Exception inside the 'handler_\" + msg_type + \"' callback:\", e, e.stack, msg);\n",
       "            }\n",
       "        }\n",
       "    };\n",
       "}\n",
       "\n",
       "// from http://stackoverflow.com/questions/1114465/getting-mouse-location-in-canvas\n",
       "mpl.findpos = function(e) {\n",
       "    //this section is from http://www.quirksmode.org/js/events_properties.html\n",
       "    var targ;\n",
       "    if (!e)\n",
       "        e = window.event;\n",
       "    if (e.target)\n",
       "        targ = e.target;\n",
       "    else if (e.srcElement)\n",
       "        targ = e.srcElement;\n",
       "    if (targ.nodeType == 3) // defeat Safari bug\n",
       "        targ = targ.parentNode;\n",
       "\n",
       "    // jQuery normalizes the pageX and pageY\n",
       "    // pageX,Y are the mouse positions relative to the document\n",
       "    // offset() returns the position of the element relative to the document\n",
       "    var x = e.pageX - $(targ).offset().left;\n",
       "    var y = e.pageY - $(targ).offset().top;\n",
       "\n",
       "    return {\"x\": x, \"y\": y};\n",
       "};\n",
       "\n",
       "/*\n",
       " * return a copy of an object with only non-object keys\n",
       " * we need this to avoid circular references\n",
       " * http://stackoverflow.com/a/24161582/3208463\n",
       " */\n",
       "function simpleKeys (original) {\n",
       "  return Object.keys(original).reduce(function (obj, key) {\n",
       "    if (typeof original[key] !== 'object')\n",
       "        obj[key] = original[key]\n",
       "    return obj;\n",
       "  }, {});\n",
       "}\n",
       "\n",
       "mpl.figure.prototype.mouse_event = function(event, name) {\n",
       "    var canvas_pos = mpl.findpos(event)\n",
       "\n",
       "    if (name === 'button_press')\n",
       "    {\n",
       "        this.canvas.focus();\n",
       "        this.canvas_div.focus();\n",
       "    }\n",
       "\n",
       "    var x = canvas_pos.x * mpl.ratio;\n",
       "    var y = canvas_pos.y * mpl.ratio;\n",
       "\n",
       "    this.send_message(name, {x: x, y: y, button: event.button,\n",
       "                             step: event.step,\n",
       "                             guiEvent: simpleKeys(event)});\n",
       "\n",
       "    /* This prevents the web browser from automatically changing to\n",
       "     * the text insertion cursor when the button is pressed.  We want\n",
       "     * to control all of the cursor setting manually through the\n",
       "     * 'cursor' event from matplotlib */\n",
       "    event.preventDefault();\n",
       "    return false;\n",
       "}\n",
       "\n",
       "mpl.figure.prototype._key_event_extra = function(event, name) {\n",
       "    // Handle any extra behaviour associated with a key event\n",
       "}\n",
       "\n",
       "mpl.figure.prototype.key_event = function(event, name) {\n",
       "\n",
       "    // Prevent repeat events\n",
       "    if (name == 'key_press')\n",
       "    {\n",
       "        if (event.which === this._key)\n",
       "            return;\n",
       "        else\n",
       "            this._key = event.which;\n",
       "    }\n",
       "    if (name == 'key_release')\n",
       "        this._key = null;\n",
       "\n",
       "    var value = '';\n",
       "    if (event.ctrlKey && event.which != 17)\n",
       "        value += \"ctrl+\";\n",
       "    if (event.altKey && event.which != 18)\n",
       "        value += \"alt+\";\n",
       "    if (event.shiftKey && event.which != 16)\n",
       "        value += \"shift+\";\n",
       "\n",
       "    value += 'k';\n",
       "    value += event.which.toString();\n",
       "\n",
       "    this._key_event_extra(event, name);\n",
       "\n",
       "    this.send_message(name, {key: value,\n",
       "                             guiEvent: simpleKeys(event)});\n",
       "    return false;\n",
       "}\n",
       "\n",
       "mpl.figure.prototype.toolbar_button_onclick = function(name) {\n",
       "    if (name == 'download') {\n",
       "        this.handle_save(this, null);\n",
       "    } else {\n",
       "        this.send_message(\"toolbar_button\", {name: name});\n",
       "    }\n",
       "};\n",
       "\n",
       "mpl.figure.prototype.toolbar_button_onmouseover = function(tooltip) {\n",
       "    this.message.textContent = tooltip;\n",
       "};\n",
       "mpl.toolbar_items = [[\"Home\", \"Reset original view\", \"fa fa-home icon-home\", \"home\"], [\"Back\", \"Back to  previous view\", \"fa fa-arrow-left icon-arrow-left\", \"back\"], [\"Forward\", \"Forward to next view\", \"fa fa-arrow-right icon-arrow-right\", \"forward\"], [\"\", \"\", \"\", \"\"], [\"Pan\", \"Pan axes with left mouse, zoom with right\", \"fa fa-arrows icon-move\", \"pan\"], [\"Zoom\", \"Zoom to rectangle\", \"fa fa-square-o icon-check-empty\", \"zoom\"], [\"\", \"\", \"\", \"\"], [\"Download\", \"Download plot\", \"fa fa-floppy-o icon-save\", \"download\"]];\n",
       "\n",
       "mpl.extensions = [\"eps\", \"jpeg\", \"pdf\", \"png\", \"ps\", \"raw\", \"svg\", \"tif\"];\n",
       "\n",
       "mpl.default_extension = \"png\";var comm_websocket_adapter = function(comm) {\n",
       "    // Create a \"websocket\"-like object which calls the given IPython comm\n",
       "    // object with the appropriate methods. Currently this is a non binary\n",
       "    // socket, so there is still some room for performance tuning.\n",
       "    var ws = {};\n",
       "\n",
       "    ws.close = function() {\n",
       "        comm.close()\n",
       "    };\n",
       "    ws.send = function(m) {\n",
       "        //console.log('sending', m);\n",
       "        comm.send(m);\n",
       "    };\n",
       "    // Register the callback with on_msg.\n",
       "    comm.on_msg(function(msg) {\n",
       "        //console.log('receiving', msg['content']['data'], msg);\n",
       "        // Pass the mpl event to the overriden (by mpl) onmessage function.\n",
       "        ws.onmessage(msg['content']['data'])\n",
       "    });\n",
       "    return ws;\n",
       "}\n",
       "\n",
       "mpl.mpl_figure_comm = function(comm, msg) {\n",
       "    // This is the function which gets called when the mpl process\n",
       "    // starts-up an IPython Comm through the \"matplotlib\" channel.\n",
       "\n",
       "    var id = msg.content.data.id;\n",
       "    // Get hold of the div created by the display call when the Comm\n",
       "    // socket was opened in Python.\n",
       "    var element = $(\"#\" + id);\n",
       "    var ws_proxy = comm_websocket_adapter(comm)\n",
       "\n",
       "    function ondownload(figure, format) {\n",
       "        window.open(figure.imageObj.src);\n",
       "    }\n",
       "\n",
       "    var fig = new mpl.figure(id, ws_proxy,\n",
       "                           ondownload,\n",
       "                           element.get(0));\n",
       "\n",
       "    // Call onopen now - mpl needs it, as it is assuming we've passed it a real\n",
       "    // web socket which is closed, not our websocket->open comm proxy.\n",
       "    ws_proxy.onopen();\n",
       "\n",
       "    fig.parent_element = element.get(0);\n",
       "    fig.cell_info = mpl.find_output_cell(\"<div id='\" + id + \"'></div>\");\n",
       "    if (!fig.cell_info) {\n",
       "        console.error(\"Failed to find cell for figure\", id, fig);\n",
       "        return;\n",
       "    }\n",
       "\n",
       "    var output_index = fig.cell_info[2]\n",
       "    var cell = fig.cell_info[0];\n",
       "\n",
       "};\n",
       "\n",
       "mpl.figure.prototype.handle_close = function(fig, msg) {\n",
       "    var width = fig.canvas.width/mpl.ratio\n",
       "    fig.root.unbind('remove')\n",
       "\n",
       "    // Update the output cell to use the data from the current canvas.\n",
       "    fig.push_to_output();\n",
       "    var dataURL = fig.canvas.toDataURL();\n",
       "    // Re-enable the keyboard manager in IPython - without this line, in FF,\n",
       "    // the notebook keyboard shortcuts fail.\n",
       "    IPython.keyboard_manager.enable()\n",
       "    $(fig.parent_element).html('<img src=\"' + dataURL + '\" width=\"' + width + '\">');\n",
       "    fig.close_ws(fig, msg);\n",
       "}\n",
       "\n",
       "mpl.figure.prototype.close_ws = function(fig, msg){\n",
       "    fig.send_message('closing', msg);\n",
       "    // fig.ws.close()\n",
       "}\n",
       "\n",
       "mpl.figure.prototype.push_to_output = function(remove_interactive) {\n",
       "    // Turn the data on the canvas into data in the output cell.\n",
       "    var width = this.canvas.width/mpl.ratio\n",
       "    var dataURL = this.canvas.toDataURL();\n",
       "    this.cell_info[1]['text/html'] = '<img src=\"' + dataURL + '\" width=\"' + width + '\">';\n",
       "}\n",
       "\n",
       "mpl.figure.prototype.updated_canvas_event = function() {\n",
       "    // Tell IPython that the notebook contents must change.\n",
       "    IPython.notebook.set_dirty(true);\n",
       "    this.send_message(\"ack\", {});\n",
       "    var fig = this;\n",
       "    // Wait a second, then push the new image to the DOM so\n",
       "    // that it is saved nicely (might be nice to debounce this).\n",
       "    setTimeout(function () { fig.push_to_output() }, 1000);\n",
       "}\n",
       "\n",
       "mpl.figure.prototype._init_toolbar = function() {\n",
       "    var fig = this;\n",
       "\n",
       "    var nav_element = $('<div/>')\n",
       "    nav_element.attr('style', 'width: 100%');\n",
       "    this.root.append(nav_element);\n",
       "\n",
       "    // Define a callback function for later on.\n",
       "    function toolbar_event(event) {\n",
       "        return fig.toolbar_button_onclick(event['data']);\n",
       "    }\n",
       "    function toolbar_mouse_event(event) {\n",
       "        return fig.toolbar_button_onmouseover(event['data']);\n",
       "    }\n",
       "\n",
       "    for(var toolbar_ind in mpl.toolbar_items){\n",
       "        var name = mpl.toolbar_items[toolbar_ind][0];\n",
       "        var tooltip = mpl.toolbar_items[toolbar_ind][1];\n",
       "        var image = mpl.toolbar_items[toolbar_ind][2];\n",
       "        var method_name = mpl.toolbar_items[toolbar_ind][3];\n",
       "\n",
       "        if (!name) { continue; };\n",
       "\n",
       "        var button = $('<button class=\"btn btn-default\" href=\"#\" title=\"' + name + '\"><i class=\"fa ' + image + ' fa-lg\"></i></button>');\n",
       "        button.click(method_name, toolbar_event);\n",
       "        button.mouseover(tooltip, toolbar_mouse_event);\n",
       "        nav_element.append(button);\n",
       "    }\n",
       "\n",
       "    // Add the status bar.\n",
       "    var status_bar = $('<span class=\"mpl-message\" style=\"text-align:right; float: right;\"/>');\n",
       "    nav_element.append(status_bar);\n",
       "    this.message = status_bar[0];\n",
       "\n",
       "    // Add the close button to the window.\n",
       "    var buttongrp = $('<div class=\"btn-group inline pull-right\"></div>');\n",
       "    var button = $('<button class=\"btn btn-mini btn-primary\" href=\"#\" title=\"Stop Interaction\"><i class=\"fa fa-power-off icon-remove icon-large\"></i></button>');\n",
       "    button.click(function (evt) { fig.handle_close(fig, {}); } );\n",
       "    button.mouseover('Stop Interaction', toolbar_mouse_event);\n",
       "    buttongrp.append(button);\n",
       "    var titlebar = this.root.find($('.ui-dialog-titlebar'));\n",
       "    titlebar.prepend(buttongrp);\n",
       "}\n",
       "\n",
       "mpl.figure.prototype._root_extra_style = function(el){\n",
       "    var fig = this\n",
       "    el.on(\"remove\", function(){\n",
       "\tfig.close_ws(fig, {});\n",
       "    });\n",
       "}\n",
       "\n",
       "mpl.figure.prototype._canvas_extra_style = function(el){\n",
       "    // this is important to make the div 'focusable\n",
       "    el.attr('tabindex', 0)\n",
       "    // reach out to IPython and tell the keyboard manager to turn it's self\n",
       "    // off when our div gets focus\n",
       "\n",
       "    // location in version 3\n",
       "    if (IPython.notebook.keyboard_manager) {\n",
       "        IPython.notebook.keyboard_manager.register_events(el);\n",
       "    }\n",
       "    else {\n",
       "        // location in version 2\n",
       "        IPython.keyboard_manager.register_events(el);\n",
       "    }\n",
       "\n",
       "}\n",
       "\n",
       "mpl.figure.prototype._key_event_extra = function(event, name) {\n",
       "    var manager = IPython.notebook.keyboard_manager;\n",
       "    if (!manager)\n",
       "        manager = IPython.keyboard_manager;\n",
       "\n",
       "    // Check for shift+enter\n",
       "    if (event.shiftKey && event.which == 13) {\n",
       "        this.canvas_div.blur();\n",
       "        // select the cell after this one\n",
       "        var index = IPython.notebook.find_cell_index(this.cell_info[0]);\n",
       "        IPython.notebook.select(index + 1);\n",
       "    }\n",
       "}\n",
       "\n",
       "mpl.figure.prototype.handle_save = function(fig, msg) {\n",
       "    fig.ondownload(fig, null);\n",
       "}\n",
       "\n",
       "\n",
       "mpl.find_output_cell = function(html_output) {\n",
       "    // Return the cell and output element which can be found *uniquely* in the notebook.\n",
       "    // Note - this is a bit hacky, but it is done because the \"notebook_saving.Notebook\"\n",
       "    // IPython event is triggered only after the cells have been serialised, which for\n",
       "    // our purposes (turning an active figure into a static one), is too late.\n",
       "    var cells = IPython.notebook.get_cells();\n",
       "    var ncells = cells.length;\n",
       "    for (var i=0; i<ncells; i++) {\n",
       "        var cell = cells[i];\n",
       "        if (cell.cell_type === 'code'){\n",
       "            for (var j=0; j<cell.output_area.outputs.length; j++) {\n",
       "                var data = cell.output_area.outputs[j];\n",
       "                if (data.data) {\n",
       "                    // IPython >= 3 moved mimebundle to data attribute of output\n",
       "                    data = data.data;\n",
       "                }\n",
       "                if (data['text/html'] == html_output) {\n",
       "                    return [cell, data, j];\n",
       "                }\n",
       "            }\n",
       "        }\n",
       "    }\n",
       "}\n",
       "\n",
       "// Register the function which deals with the matplotlib target/channel.\n",
       "// The kernel may be null if the page has been refreshed.\n",
       "if (IPython.notebook.kernel != null) {\n",
       "    IPython.notebook.kernel.comm_manager.register_target('matplotlib', mpl.mpl_figure_comm);\n",
       "}\n"
      ],
      "text/plain": [
       "<IPython.core.display.Javascript object>"
      ]
     },
     "metadata": {},
     "output_type": "display_data"
    },
    {
     "data": {
      "text/html": [
       "<img src=\"data:image/png;base64,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\" width=\"900\">"
      ],
      "text/plain": [
       "<IPython.core.display.HTML object>"
      ]
     },
     "metadata": {},
     "output_type": "display_data"
    }
   ],
   "source": [
    "# what function should we play with?  Defined in the next line.\n",
    "g = lambda w: w**4\n",
    "\n",
    "# create an instance of the visualizer with this function \n",
    "der_viz = calclib.display_derivative_functions.visualizer(g = g)\n",
    "\n",
    "# run the visualizer for our chosen input function\n",
    "der_viz.draw_it()"
   ]
  },
  {
   "cell_type": "markdown",
   "metadata": {
    "slideshow": {
     "slide_type": "subslide"
    }
   },
   "source": [
    "#### <span style=\"color:#a50e3e;\">Example 2. </span> Higher order derivatives of $g(w)=\\text{cos}(3w) + w^2 + w^3$"
   ]
  },
  {
   "cell_type": "markdown",
   "metadata": {
    "slideshow": {
     "slide_type": "fragment"
    }
   },
   "source": [
    "As with the previous example we can quickly compute\n",
    "\n",
    "\n",
    "\\begin{array}\n",
    "\\\n",
    "\\frac{\\mathrm{d}}{\\mathrm{d}w}g(w) = -3\\text{sin}(3w) + 2w + 3w^2\\\\\n",
    "\\frac{\\mathrm{d}}{\\mathrm{d}w}\\left(\\frac{\\mathrm{d}}{\\mathrm{d}w}g(w)\\right) = -9\\text{cos}(3w) + 2 + 6w\\\\\n",
    "\\frac{\\mathrm{d}}{\\mathrm{d}w}\\left(\\frac{\\mathrm{d}}{\\mathrm{d}w}\\left(\\frac{\\mathrm{d}}{\\mathrm{d}w}g(w)\\right)\\right) = 27\\text{sin}(3w) + 6\\\\\n",
    "\\end{array}\n"
   ]
  },
  {
   "cell_type": "markdown",
   "metadata": {
    "slideshow": {
     "slide_type": "subslide"
    }
   },
   "source": [
    "We plot these derivatives - along with the original function - below."
   ]
  },
  {
   "cell_type": "code",
   "execution_count": 8,
   "metadata": {
    "slideshow": {
     "slide_type": "fragment"
    }
   },
   "outputs": [
    {
     "data": {
      "application/javascript": [
       "/* Put everything inside the global mpl namespace */\n",
       "window.mpl = {};\n",
       "\n",
       "\n",
       "mpl.get_websocket_type = function() {\n",
       "    if (typeof(WebSocket) !== 'undefined') {\n",
       "        return WebSocket;\n",
       "    } else if (typeof(MozWebSocket) !== 'undefined') {\n",
       "        return MozWebSocket;\n",
       "    } else {\n",
       "        alert('Your browser does not have WebSocket support.' +\n",
       "              'Please try Chrome, Safari or Firefox ≥ 6. ' +\n",
       "              'Firefox 4 and 5 are also supported but you ' +\n",
       "              'have to enable WebSockets in about:config.');\n",
       "    };\n",
       "}\n",
       "\n",
       "mpl.figure = function(figure_id, websocket, ondownload, parent_element) {\n",
       "    this.id = figure_id;\n",
       "\n",
       "    this.ws = websocket;\n",
       "\n",
       "    this.supports_binary = (this.ws.binaryType != undefined);\n",
       "\n",
       "    if (!this.supports_binary) {\n",
       "        var warnings = document.getElementById(\"mpl-warnings\");\n",
       "        if (warnings) {\n",
       "            warnings.style.display = 'block';\n",
       "            warnings.textContent = (\n",
       "                \"This browser does not support binary websocket messages. \" +\n",
       "                    \"Performance may be slow.\");\n",
       "        }\n",
       "    }\n",
       "\n",
       "    this.imageObj = new Image();\n",
       "\n",
       "    this.context = undefined;\n",
       "    this.message = undefined;\n",
       "    this.canvas = undefined;\n",
       "    this.rubberband_canvas = undefined;\n",
       "    this.rubberband_context = undefined;\n",
       "    this.format_dropdown = undefined;\n",
       "\n",
       "    this.image_mode = 'full';\n",
       "\n",
       "    this.root = $('<div/>');\n",
       "    this._root_extra_style(this.root)\n",
       "    this.root.attr('style', 'display: inline-block');\n",
       "\n",
       "    $(parent_element).append(this.root);\n",
       "\n",
       "    this._init_header(this);\n",
       "    this._init_canvas(this);\n",
       "    this._init_toolbar(this);\n",
       "\n",
       "    var fig = this;\n",
       "\n",
       "    this.waiting = false;\n",
       "\n",
       "    this.ws.onopen =  function () {\n",
       "            fig.send_message(\"supports_binary\", {value: fig.supports_binary});\n",
       "            fig.send_message(\"send_image_mode\", {});\n",
       "            if (mpl.ratio != 1) {\n",
       "                fig.send_message(\"set_dpi_ratio\", {'dpi_ratio': mpl.ratio});\n",
       "            }\n",
       "            fig.send_message(\"refresh\", {});\n",
       "        }\n",
       "\n",
       "    this.imageObj.onload = function() {\n",
       "            if (fig.image_mode == 'full') {\n",
       "                // Full images could contain transparency (where diff images\n",
       "                // almost always do), so we need to clear the canvas so that\n",
       "                // there is no ghosting.\n",
       "                fig.context.clearRect(0, 0, fig.canvas.width, fig.canvas.height);\n",
       "            }\n",
       "            fig.context.drawImage(fig.imageObj, 0, 0);\n",
       "        };\n",
       "\n",
       "    this.imageObj.onunload = function() {\n",
       "        this.ws.close();\n",
       "    }\n",
       "\n",
       "    this.ws.onmessage = this._make_on_message_function(this);\n",
       "\n",
       "    this.ondownload = ondownload;\n",
       "}\n",
       "\n",
       "mpl.figure.prototype._init_header = function() {\n",
       "    var titlebar = $(\n",
       "        '<div class=\"ui-dialog-titlebar ui-widget-header ui-corner-all ' +\n",
       "        'ui-helper-clearfix\"/>');\n",
       "    var titletext = $(\n",
       "        '<div class=\"ui-dialog-title\" style=\"width: 100%; ' +\n",
       "        'text-align: center; padding: 3px;\"/>');\n",
       "    titlebar.append(titletext)\n",
       "    this.root.append(titlebar);\n",
       "    this.header = titletext[0];\n",
       "}\n",
       "\n",
       "\n",
       "\n",
       "mpl.figure.prototype._canvas_extra_style = function(canvas_div) {\n",
       "\n",
       "}\n",
       "\n",
       "\n",
       "mpl.figure.prototype._root_extra_style = function(canvas_div) {\n",
       "\n",
       "}\n",
       "\n",
       "mpl.figure.prototype._init_canvas = function() {\n",
       "    var fig = this;\n",
       "\n",
       "    var canvas_div = $('<div/>');\n",
       "\n",
       "    canvas_div.attr('style', 'position: relative; clear: both; outline: 0');\n",
       "\n",
       "    function canvas_keyboard_event(event) {\n",
       "        return fig.key_event(event, event['data']);\n",
       "    }\n",
       "\n",
       "    canvas_div.keydown('key_press', canvas_keyboard_event);\n",
       "    canvas_div.keyup('key_release', canvas_keyboard_event);\n",
       "    this.canvas_div = canvas_div\n",
       "    this._canvas_extra_style(canvas_div)\n",
       "    this.root.append(canvas_div);\n",
       "\n",
       "    var canvas = $('<canvas/>');\n",
       "    canvas.addClass('mpl-canvas');\n",
       "    canvas.attr('style', \"left: 0; top: 0; z-index: 0; outline: 0\")\n",
       "\n",
       "    this.canvas = canvas[0];\n",
       "    this.context = canvas[0].getContext(\"2d\");\n",
       "\n",
       "    var backingStore = this.context.backingStorePixelRatio ||\n",
       "\tthis.context.webkitBackingStorePixelRatio ||\n",
       "\tthis.context.mozBackingStorePixelRatio ||\n",
       "\tthis.context.msBackingStorePixelRatio ||\n",
       "\tthis.context.oBackingStorePixelRatio ||\n",
       "\tthis.context.backingStorePixelRatio || 1;\n",
       "\n",
       "    mpl.ratio = (window.devicePixelRatio || 1) / backingStore;\n",
       "\n",
       "    var rubberband = $('<canvas/>');\n",
       "    rubberband.attr('style', \"position: absolute; left: 0; top: 0; z-index: 1;\")\n",
       "\n",
       "    var pass_mouse_events = true;\n",
       "\n",
       "    canvas_div.resizable({\n",
       "        start: function(event, ui) {\n",
       "            pass_mouse_events = false;\n",
       "        },\n",
       "        resize: function(event, ui) {\n",
       "            fig.request_resize(ui.size.width, ui.size.height);\n",
       "        },\n",
       "        stop: function(event, ui) {\n",
       "            pass_mouse_events = true;\n",
       "            fig.request_resize(ui.size.width, ui.size.height);\n",
       "        },\n",
       "    });\n",
       "\n",
       "    function mouse_event_fn(event) {\n",
       "        if (pass_mouse_events)\n",
       "            return fig.mouse_event(event, event['data']);\n",
       "    }\n",
       "\n",
       "    rubberband.mousedown('button_press', mouse_event_fn);\n",
       "    rubberband.mouseup('button_release', mouse_event_fn);\n",
       "    // Throttle sequential mouse events to 1 every 20ms.\n",
       "    rubberband.mousemove('motion_notify', mouse_event_fn);\n",
       "\n",
       "    rubberband.mouseenter('figure_enter', mouse_event_fn);\n",
       "    rubberband.mouseleave('figure_leave', mouse_event_fn);\n",
       "\n",
       "    canvas_div.on(\"wheel\", function (event) {\n",
       "        event = event.originalEvent;\n",
       "        event['data'] = 'scroll'\n",
       "        if (event.deltaY < 0) {\n",
       "            event.step = 1;\n",
       "        } else {\n",
       "            event.step = -1;\n",
       "        }\n",
       "        mouse_event_fn(event);\n",
       "    });\n",
       "\n",
       "    canvas_div.append(canvas);\n",
       "    canvas_div.append(rubberband);\n",
       "\n",
       "    this.rubberband = rubberband;\n",
       "    this.rubberband_canvas = rubberband[0];\n",
       "    this.rubberband_context = rubberband[0].getContext(\"2d\");\n",
       "    this.rubberband_context.strokeStyle = \"#000000\";\n",
       "\n",
       "    this._resize_canvas = function(width, height) {\n",
       "        // Keep the size of the canvas, canvas container, and rubber band\n",
       "        // canvas in synch.\n",
       "        canvas_div.css('width', width)\n",
       "        canvas_div.css('height', height)\n",
       "\n",
       "        canvas.attr('width', width * mpl.ratio);\n",
       "        canvas.attr('height', height * mpl.ratio);\n",
       "        canvas.attr('style', 'width: ' + width + 'px; height: ' + height + 'px;');\n",
       "\n",
       "        rubberband.attr('width', width);\n",
       "        rubberband.attr('height', height);\n",
       "    }\n",
       "\n",
       "    // Set the figure to an initial 600x600px, this will subsequently be updated\n",
       "    // upon first draw.\n",
       "    this._resize_canvas(600, 600);\n",
       "\n",
       "    // Disable right mouse context menu.\n",
       "    $(this.rubberband_canvas).bind(\"contextmenu\",function(e){\n",
       "        return false;\n",
       "    });\n",
       "\n",
       "    function set_focus () {\n",
       "        canvas.focus();\n",
       "        canvas_div.focus();\n",
       "    }\n",
       "\n",
       "    window.setTimeout(set_focus, 100);\n",
       "}\n",
       "\n",
       "mpl.figure.prototype._init_toolbar = function() {\n",
       "    var fig = this;\n",
       "\n",
       "    var nav_element = $('<div/>')\n",
       "    nav_element.attr('style', 'width: 100%');\n",
       "    this.root.append(nav_element);\n",
       "\n",
       "    // Define a callback function for later on.\n",
       "    function toolbar_event(event) {\n",
       "        return fig.toolbar_button_onclick(event['data']);\n",
       "    }\n",
       "    function toolbar_mouse_event(event) {\n",
       "        return fig.toolbar_button_onmouseover(event['data']);\n",
       "    }\n",
       "\n",
       "    for(var toolbar_ind in mpl.toolbar_items) {\n",
       "        var name = mpl.toolbar_items[toolbar_ind][0];\n",
       "        var tooltip = mpl.toolbar_items[toolbar_ind][1];\n",
       "        var image = mpl.toolbar_items[toolbar_ind][2];\n",
       "        var method_name = mpl.toolbar_items[toolbar_ind][3];\n",
       "\n",
       "        if (!name) {\n",
       "            // put a spacer in here.\n",
       "            continue;\n",
       "        }\n",
       "        var button = $('<button/>');\n",
       "        button.addClass('ui-button ui-widget ui-state-default ui-corner-all ' +\n",
       "                        'ui-button-icon-only');\n",
       "        button.attr('role', 'button');\n",
       "        button.attr('aria-disabled', 'false');\n",
       "        button.click(method_name, toolbar_event);\n",
       "        button.mouseover(tooltip, toolbar_mouse_event);\n",
       "\n",
       "        var icon_img = $('<span/>');\n",
       "        icon_img.addClass('ui-button-icon-primary ui-icon');\n",
       "        icon_img.addClass(image);\n",
       "        icon_img.addClass('ui-corner-all');\n",
       "\n",
       "        var tooltip_span = $('<span/>');\n",
       "        tooltip_span.addClass('ui-button-text');\n",
       "        tooltip_span.html(tooltip);\n",
       "\n",
       "        button.append(icon_img);\n",
       "        button.append(tooltip_span);\n",
       "\n",
       "        nav_element.append(button);\n",
       "    }\n",
       "\n",
       "    var fmt_picker_span = $('<span/>');\n",
       "\n",
       "    var fmt_picker = $('<select/>');\n",
       "    fmt_picker.addClass('mpl-toolbar-option ui-widget ui-widget-content');\n",
       "    fmt_picker_span.append(fmt_picker);\n",
       "    nav_element.append(fmt_picker_span);\n",
       "    this.format_dropdown = fmt_picker[0];\n",
       "\n",
       "    for (var ind in mpl.extensions) {\n",
       "        var fmt = mpl.extensions[ind];\n",
       "        var option = $(\n",
       "            '<option/>', {selected: fmt === mpl.default_extension}).html(fmt);\n",
       "        fmt_picker.append(option)\n",
       "    }\n",
       "\n",
       "    // Add hover states to the ui-buttons\n",
       "    $( \".ui-button\" ).hover(\n",
       "        function() { $(this).addClass(\"ui-state-hover\");},\n",
       "        function() { $(this).removeClass(\"ui-state-hover\");}\n",
       "    );\n",
       "\n",
       "    var status_bar = $('<span class=\"mpl-message\"/>');\n",
       "    nav_element.append(status_bar);\n",
       "    this.message = status_bar[0];\n",
       "}\n",
       "\n",
       "mpl.figure.prototype.request_resize = function(x_pixels, y_pixels) {\n",
       "    // Request matplotlib to resize the figure. Matplotlib will then trigger a resize in the client,\n",
       "    // which will in turn request a refresh of the image.\n",
       "    this.send_message('resize', {'width': x_pixels, 'height': y_pixels});\n",
       "}\n",
       "\n",
       "mpl.figure.prototype.send_message = function(type, properties) {\n",
       "    properties['type'] = type;\n",
       "    properties['figure_id'] = this.id;\n",
       "    this.ws.send(JSON.stringify(properties));\n",
       "}\n",
       "\n",
       "mpl.figure.prototype.send_draw_message = function() {\n",
       "    if (!this.waiting) {\n",
       "        this.waiting = true;\n",
       "        this.ws.send(JSON.stringify({type: \"draw\", figure_id: this.id}));\n",
       "    }\n",
       "}\n",
       "\n",
       "\n",
       "mpl.figure.prototype.handle_save = function(fig, msg) {\n",
       "    var format_dropdown = fig.format_dropdown;\n",
       "    var format = format_dropdown.options[format_dropdown.selectedIndex].value;\n",
       "    fig.ondownload(fig, format);\n",
       "}\n",
       "\n",
       "\n",
       "mpl.figure.prototype.handle_resize = function(fig, msg) {\n",
       "    var size = msg['size'];\n",
       "    if (size[0] != fig.canvas.width || size[1] != fig.canvas.height) {\n",
       "        fig._resize_canvas(size[0], size[1]);\n",
       "        fig.send_message(\"refresh\", {});\n",
       "    };\n",
       "}\n",
       "\n",
       "mpl.figure.prototype.handle_rubberband = function(fig, msg) {\n",
       "    var x0 = msg['x0'] / mpl.ratio;\n",
       "    var y0 = (fig.canvas.height - msg['y0']) / mpl.ratio;\n",
       "    var x1 = msg['x1'] / mpl.ratio;\n",
       "    var y1 = (fig.canvas.height - msg['y1']) / mpl.ratio;\n",
       "    x0 = Math.floor(x0) + 0.5;\n",
       "    y0 = Math.floor(y0) + 0.5;\n",
       "    x1 = Math.floor(x1) + 0.5;\n",
       "    y1 = Math.floor(y1) + 0.5;\n",
       "    var min_x = Math.min(x0, x1);\n",
       "    var min_y = Math.min(y0, y1);\n",
       "    var width = Math.abs(x1 - x0);\n",
       "    var height = Math.abs(y1 - y0);\n",
       "\n",
       "    fig.rubberband_context.clearRect(\n",
       "        0, 0, fig.canvas.width, fig.canvas.height);\n",
       "\n",
       "    fig.rubberband_context.strokeRect(min_x, min_y, width, height);\n",
       "}\n",
       "\n",
       "mpl.figure.prototype.handle_figure_label = function(fig, msg) {\n",
       "    // Updates the figure title.\n",
       "    fig.header.textContent = msg['label'];\n",
       "}\n",
       "\n",
       "mpl.figure.prototype.handle_cursor = function(fig, msg) {\n",
       "    var cursor = msg['cursor'];\n",
       "    switch(cursor)\n",
       "    {\n",
       "    case 0:\n",
       "        cursor = 'pointer';\n",
       "        break;\n",
       "    case 1:\n",
       "        cursor = 'default';\n",
       "        break;\n",
       "    case 2:\n",
       "        cursor = 'crosshair';\n",
       "        break;\n",
       "    case 3:\n",
       "        cursor = 'move';\n",
       "        break;\n",
       "    }\n",
       "    fig.rubberband_canvas.style.cursor = cursor;\n",
       "}\n",
       "\n",
       "mpl.figure.prototype.handle_message = function(fig, msg) {\n",
       "    fig.message.textContent = msg['message'];\n",
       "}\n",
       "\n",
       "mpl.figure.prototype.handle_draw = function(fig, msg) {\n",
       "    // Request the server to send over a new figure.\n",
       "    fig.send_draw_message();\n",
       "}\n",
       "\n",
       "mpl.figure.prototype.handle_image_mode = function(fig, msg) {\n",
       "    fig.image_mode = msg['mode'];\n",
       "}\n",
       "\n",
       "mpl.figure.prototype.updated_canvas_event = function() {\n",
       "    // Called whenever the canvas gets updated.\n",
       "    this.send_message(\"ack\", {});\n",
       "}\n",
       "\n",
       "// A function to construct a web socket function for onmessage handling.\n",
       "// Called in the figure constructor.\n",
       "mpl.figure.prototype._make_on_message_function = function(fig) {\n",
       "    return function socket_on_message(evt) {\n",
       "        if (evt.data instanceof Blob) {\n",
       "            /* FIXME: We get \"Resource interpreted as Image but\n",
       "             * transferred with MIME type text/plain:\" errors on\n",
       "             * Chrome.  But how to set the MIME type?  It doesn't seem\n",
       "             * to be part of the websocket stream */\n",
       "            evt.data.type = \"image/png\";\n",
       "\n",
       "            /* Free the memory for the previous frames */\n",
       "            if (fig.imageObj.src) {\n",
       "                (window.URL || window.webkitURL).revokeObjectURL(\n",
       "                    fig.imageObj.src);\n",
       "            }\n",
       "\n",
       "            fig.imageObj.src = (window.URL || window.webkitURL).createObjectURL(\n",
       "                evt.data);\n",
       "            fig.updated_canvas_event();\n",
       "            fig.waiting = false;\n",
       "            return;\n",
       "        }\n",
       "        else if (typeof evt.data === 'string' && evt.data.slice(0, 21) == \"data:image/png;base64\") {\n",
       "            fig.imageObj.src = evt.data;\n",
       "            fig.updated_canvas_event();\n",
       "            fig.waiting = false;\n",
       "            return;\n",
       "        }\n",
       "\n",
       "        var msg = JSON.parse(evt.data);\n",
       "        var msg_type = msg['type'];\n",
       "\n",
       "        // Call the  \"handle_{type}\" callback, which takes\n",
       "        // the figure and JSON message as its only arguments.\n",
       "        try {\n",
       "            var callback = fig[\"handle_\" + msg_type];\n",
       "        } catch (e) {\n",
       "            console.log(\"No handler for the '\" + msg_type + \"' message type: \", msg);\n",
       "            return;\n",
       "        }\n",
       "\n",
       "        if (callback) {\n",
       "            try {\n",
       "                // console.log(\"Handling '\" + msg_type + \"' message: \", msg);\n",
       "                callback(fig, msg);\n",
       "            } catch (e) {\n",
       "                console.log(\"Exception inside the 'handler_\" + msg_type + \"' callback:\", e, e.stack, msg);\n",
       "            }\n",
       "        }\n",
       "    };\n",
       "}\n",
       "\n",
       "// from http://stackoverflow.com/questions/1114465/getting-mouse-location-in-canvas\n",
       "mpl.findpos = function(e) {\n",
       "    //this section is from http://www.quirksmode.org/js/events_properties.html\n",
       "    var targ;\n",
       "    if (!e)\n",
       "        e = window.event;\n",
       "    if (e.target)\n",
       "        targ = e.target;\n",
       "    else if (e.srcElement)\n",
       "        targ = e.srcElement;\n",
       "    if (targ.nodeType == 3) // defeat Safari bug\n",
       "        targ = targ.parentNode;\n",
       "\n",
       "    // jQuery normalizes the pageX and pageY\n",
       "    // pageX,Y are the mouse positions relative to the document\n",
       "    // offset() returns the position of the element relative to the document\n",
       "    var x = e.pageX - $(targ).offset().left;\n",
       "    var y = e.pageY - $(targ).offset().top;\n",
       "\n",
       "    return {\"x\": x, \"y\": y};\n",
       "};\n",
       "\n",
       "/*\n",
       " * return a copy of an object with only non-object keys\n",
       " * we need this to avoid circular references\n",
       " * http://stackoverflow.com/a/24161582/3208463\n",
       " */\n",
       "function simpleKeys (original) {\n",
       "  return Object.keys(original).reduce(function (obj, key) {\n",
       "    if (typeof original[key] !== 'object')\n",
       "        obj[key] = original[key]\n",
       "    return obj;\n",
       "  }, {});\n",
       "}\n",
       "\n",
       "mpl.figure.prototype.mouse_event = function(event, name) {\n",
       "    var canvas_pos = mpl.findpos(event)\n",
       "\n",
       "    if (name === 'button_press')\n",
       "    {\n",
       "        this.canvas.focus();\n",
       "        this.canvas_div.focus();\n",
       "    }\n",
       "\n",
       "    var x = canvas_pos.x * mpl.ratio;\n",
       "    var y = canvas_pos.y * mpl.ratio;\n",
       "\n",
       "    this.send_message(name, {x: x, y: y, button: event.button,\n",
       "                             step: event.step,\n",
       "                             guiEvent: simpleKeys(event)});\n",
       "\n",
       "    /* This prevents the web browser from automatically changing to\n",
       "     * the text insertion cursor when the button is pressed.  We want\n",
       "     * to control all of the cursor setting manually through the\n",
       "     * 'cursor' event from matplotlib */\n",
       "    event.preventDefault();\n",
       "    return false;\n",
       "}\n",
       "\n",
       "mpl.figure.prototype._key_event_extra = function(event, name) {\n",
       "    // Handle any extra behaviour associated with a key event\n",
       "}\n",
       "\n",
       "mpl.figure.prototype.key_event = function(event, name) {\n",
       "\n",
       "    // Prevent repeat events\n",
       "    if (name == 'key_press')\n",
       "    {\n",
       "        if (event.which === this._key)\n",
       "            return;\n",
       "        else\n",
       "            this._key = event.which;\n",
       "    }\n",
       "    if (name == 'key_release')\n",
       "        this._key = null;\n",
       "\n",
       "    var value = '';\n",
       "    if (event.ctrlKey && event.which != 17)\n",
       "        value += \"ctrl+\";\n",
       "    if (event.altKey && event.which != 18)\n",
       "        value += \"alt+\";\n",
       "    if (event.shiftKey && event.which != 16)\n",
       "        value += \"shift+\";\n",
       "\n",
       "    value += 'k';\n",
       "    value += event.which.toString();\n",
       "\n",
       "    this._key_event_extra(event, name);\n",
       "\n",
       "    this.send_message(name, {key: value,\n",
       "                             guiEvent: simpleKeys(event)});\n",
       "    return false;\n",
       "}\n",
       "\n",
       "mpl.figure.prototype.toolbar_button_onclick = function(name) {\n",
       "    if (name == 'download') {\n",
       "        this.handle_save(this, null);\n",
       "    } else {\n",
       "        this.send_message(\"toolbar_button\", {name: name});\n",
       "    }\n",
       "};\n",
       "\n",
       "mpl.figure.prototype.toolbar_button_onmouseover = function(tooltip) {\n",
       "    this.message.textContent = tooltip;\n",
       "};\n",
       "mpl.toolbar_items = [[\"Home\", \"Reset original view\", \"fa fa-home icon-home\", \"home\"], [\"Back\", \"Back to  previous view\", \"fa fa-arrow-left icon-arrow-left\", \"back\"], [\"Forward\", \"Forward to next view\", \"fa fa-arrow-right icon-arrow-right\", \"forward\"], [\"\", \"\", \"\", \"\"], [\"Pan\", \"Pan axes with left mouse, zoom with right\", \"fa fa-arrows icon-move\", \"pan\"], [\"Zoom\", \"Zoom to rectangle\", \"fa fa-square-o icon-check-empty\", \"zoom\"], [\"\", \"\", \"\", \"\"], [\"Download\", \"Download plot\", \"fa fa-floppy-o icon-save\", \"download\"]];\n",
       "\n",
       "mpl.extensions = [\"eps\", \"jpeg\", \"pdf\", \"png\", \"ps\", \"raw\", \"svg\", \"tif\"];\n",
       "\n",
       "mpl.default_extension = \"png\";var comm_websocket_adapter = function(comm) {\n",
       "    // Create a \"websocket\"-like object which calls the given IPython comm\n",
       "    // object with the appropriate methods. Currently this is a non binary\n",
       "    // socket, so there is still some room for performance tuning.\n",
       "    var ws = {};\n",
       "\n",
       "    ws.close = function() {\n",
       "        comm.close()\n",
       "    };\n",
       "    ws.send = function(m) {\n",
       "        //console.log('sending', m);\n",
       "        comm.send(m);\n",
       "    };\n",
       "    // Register the callback with on_msg.\n",
       "    comm.on_msg(function(msg) {\n",
       "        //console.log('receiving', msg['content']['data'], msg);\n",
       "        // Pass the mpl event to the overriden (by mpl) onmessage function.\n",
       "        ws.onmessage(msg['content']['data'])\n",
       "    });\n",
       "    return ws;\n",
       "}\n",
       "\n",
       "mpl.mpl_figure_comm = function(comm, msg) {\n",
       "    // This is the function which gets called when the mpl process\n",
       "    // starts-up an IPython Comm through the \"matplotlib\" channel.\n",
       "\n",
       "    var id = msg.content.data.id;\n",
       "    // Get hold of the div created by the display call when the Comm\n",
       "    // socket was opened in Python.\n",
       "    var element = $(\"#\" + id);\n",
       "    var ws_proxy = comm_websocket_adapter(comm)\n",
       "\n",
       "    function ondownload(figure, format) {\n",
       "        window.open(figure.imageObj.src);\n",
       "    }\n",
       "\n",
       "    var fig = new mpl.figure(id, ws_proxy,\n",
       "                           ondownload,\n",
       "                           element.get(0));\n",
       "\n",
       "    // Call onopen now - mpl needs it, as it is assuming we've passed it a real\n",
       "    // web socket which is closed, not our websocket->open comm proxy.\n",
       "    ws_proxy.onopen();\n",
       "\n",
       "    fig.parent_element = element.get(0);\n",
       "    fig.cell_info = mpl.find_output_cell(\"<div id='\" + id + \"'></div>\");\n",
       "    if (!fig.cell_info) {\n",
       "        console.error(\"Failed to find cell for figure\", id, fig);\n",
       "        return;\n",
       "    }\n",
       "\n",
       "    var output_index = fig.cell_info[2]\n",
       "    var cell = fig.cell_info[0];\n",
       "\n",
       "};\n",
       "\n",
       "mpl.figure.prototype.handle_close = function(fig, msg) {\n",
       "    var width = fig.canvas.width/mpl.ratio\n",
       "    fig.root.unbind('remove')\n",
       "\n",
       "    // Update the output cell to use the data from the current canvas.\n",
       "    fig.push_to_output();\n",
       "    var dataURL = fig.canvas.toDataURL();\n",
       "    // Re-enable the keyboard manager in IPython - without this line, in FF,\n",
       "    // the notebook keyboard shortcuts fail.\n",
       "    IPython.keyboard_manager.enable()\n",
       "    $(fig.parent_element).html('<img src=\"' + dataURL + '\" width=\"' + width + '\">');\n",
       "    fig.close_ws(fig, msg);\n",
       "}\n",
       "\n",
       "mpl.figure.prototype.close_ws = function(fig, msg){\n",
       "    fig.send_message('closing', msg);\n",
       "    // fig.ws.close()\n",
       "}\n",
       "\n",
       "mpl.figure.prototype.push_to_output = function(remove_interactive) {\n",
       "    // Turn the data on the canvas into data in the output cell.\n",
       "    var width = this.canvas.width/mpl.ratio\n",
       "    var dataURL = this.canvas.toDataURL();\n",
       "    this.cell_info[1]['text/html'] = '<img src=\"' + dataURL + '\" width=\"' + width + '\">';\n",
       "}\n",
       "\n",
       "mpl.figure.prototype.updated_canvas_event = function() {\n",
       "    // Tell IPython that the notebook contents must change.\n",
       "    IPython.notebook.set_dirty(true);\n",
       "    this.send_message(\"ack\", {});\n",
       "    var fig = this;\n",
       "    // Wait a second, then push the new image to the DOM so\n",
       "    // that it is saved nicely (might be nice to debounce this).\n",
       "    setTimeout(function () { fig.push_to_output() }, 1000);\n",
       "}\n",
       "\n",
       "mpl.figure.prototype._init_toolbar = function() {\n",
       "    var fig = this;\n",
       "\n",
       "    var nav_element = $('<div/>')\n",
       "    nav_element.attr('style', 'width: 100%');\n",
       "    this.root.append(nav_element);\n",
       "\n",
       "    // Define a callback function for later on.\n",
       "    function toolbar_event(event) {\n",
       "        return fig.toolbar_button_onclick(event['data']);\n",
       "    }\n",
       "    function toolbar_mouse_event(event) {\n",
       "        return fig.toolbar_button_onmouseover(event['data']);\n",
       "    }\n",
       "\n",
       "    for(var toolbar_ind in mpl.toolbar_items){\n",
       "        var name = mpl.toolbar_items[toolbar_ind][0];\n",
       "        var tooltip = mpl.toolbar_items[toolbar_ind][1];\n",
       "        var image = mpl.toolbar_items[toolbar_ind][2];\n",
       "        var method_name = mpl.toolbar_items[toolbar_ind][3];\n",
       "\n",
       "        if (!name) { continue; };\n",
       "\n",
       "        var button = $('<button class=\"btn btn-default\" href=\"#\" title=\"' + name + '\"><i class=\"fa ' + image + ' fa-lg\"></i></button>');\n",
       "        button.click(method_name, toolbar_event);\n",
       "        button.mouseover(tooltip, toolbar_mouse_event);\n",
       "        nav_element.append(button);\n",
       "    }\n",
       "\n",
       "    // Add the status bar.\n",
       "    var status_bar = $('<span class=\"mpl-message\" style=\"text-align:right; float: right;\"/>');\n",
       "    nav_element.append(status_bar);\n",
       "    this.message = status_bar[0];\n",
       "\n",
       "    // Add the close button to the window.\n",
       "    var buttongrp = $('<div class=\"btn-group inline pull-right\"></div>');\n",
       "    var button = $('<button class=\"btn btn-mini btn-primary\" href=\"#\" title=\"Stop Interaction\"><i class=\"fa fa-power-off icon-remove icon-large\"></i></button>');\n",
       "    button.click(function (evt) { fig.handle_close(fig, {}); } );\n",
       "    button.mouseover('Stop Interaction', toolbar_mouse_event);\n",
       "    buttongrp.append(button);\n",
       "    var titlebar = this.root.find($('.ui-dialog-titlebar'));\n",
       "    titlebar.prepend(buttongrp);\n",
       "}\n",
       "\n",
       "mpl.figure.prototype._root_extra_style = function(el){\n",
       "    var fig = this\n",
       "    el.on(\"remove\", function(){\n",
       "\tfig.close_ws(fig, {});\n",
       "    });\n",
       "}\n",
       "\n",
       "mpl.figure.prototype._canvas_extra_style = function(el){\n",
       "    // this is important to make the div 'focusable\n",
       "    el.attr('tabindex', 0)\n",
       "    // reach out to IPython and tell the keyboard manager to turn it's self\n",
       "    // off when our div gets focus\n",
       "\n",
       "    // location in version 3\n",
       "    if (IPython.notebook.keyboard_manager) {\n",
       "        IPython.notebook.keyboard_manager.register_events(el);\n",
       "    }\n",
       "    else {\n",
       "        // location in version 2\n",
       "        IPython.keyboard_manager.register_events(el);\n",
       "    }\n",
       "\n",
       "}\n",
       "\n",
       "mpl.figure.prototype._key_event_extra = function(event, name) {\n",
       "    var manager = IPython.notebook.keyboard_manager;\n",
       "    if (!manager)\n",
       "        manager = IPython.keyboard_manager;\n",
       "\n",
       "    // Check for shift+enter\n",
       "    if (event.shiftKey && event.which == 13) {\n",
       "        this.canvas_div.blur();\n",
       "        // select the cell after this one\n",
       "        var index = IPython.notebook.find_cell_index(this.cell_info[0]);\n",
       "        IPython.notebook.select(index + 1);\n",
       "    }\n",
       "}\n",
       "\n",
       "mpl.figure.prototype.handle_save = function(fig, msg) {\n",
       "    fig.ondownload(fig, null);\n",
       "}\n",
       "\n",
       "\n",
       "mpl.find_output_cell = function(html_output) {\n",
       "    // Return the cell and output element which can be found *uniquely* in the notebook.\n",
       "    // Note - this is a bit hacky, but it is done because the \"notebook_saving.Notebook\"\n",
       "    // IPython event is triggered only after the cells have been serialised, which for\n",
       "    // our purposes (turning an active figure into a static one), is too late.\n",
       "    var cells = IPython.notebook.get_cells();\n",
       "    var ncells = cells.length;\n",
       "    for (var i=0; i<ncells; i++) {\n",
       "        var cell = cells[i];\n",
       "        if (cell.cell_type === 'code'){\n",
       "            for (var j=0; j<cell.output_area.outputs.length; j++) {\n",
       "                var data = cell.output_area.outputs[j];\n",
       "                if (data.data) {\n",
       "                    // IPython >= 3 moved mimebundle to data attribute of output\n",
       "                    data = data.data;\n",
       "                }\n",
       "                if (data['text/html'] == html_output) {\n",
       "                    return [cell, data, j];\n",
       "                }\n",
       "            }\n",
       "        }\n",
       "    }\n",
       "}\n",
       "\n",
       "// Register the function which deals with the matplotlib target/channel.\n",
       "// The kernel may be null if the page has been refreshed.\n",
       "if (IPython.notebook.kernel != null) {\n",
       "    IPython.notebook.kernel.comm_manager.register_target('matplotlib', mpl.mpl_figure_comm);\n",
       "}\n"
      ],
      "text/plain": [
       "<IPython.core.display.Javascript object>"
      ]
     },
     "metadata": {},
     "output_type": "display_data"
    },
    {
     "data": {
      "text/html": [
       "<img src=\"data:image/png;base64,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\" width=\"900\">"
      ],
      "text/plain": [
       "<IPython.core.display.HTML object>"
      ]
     },
     "metadata": {},
     "output_type": "display_data"
    }
   ],
   "source": [
    "# what function should we play with?  Defined in the next line.\n",
    "g = lambda w: np.cos(3*w) + w**2 + w**3\n",
    "\n",
    "# create an instance of the visualizer with this function \n",
    "der_viz = calclib.display_derivative_functions.visualizer(g = g)\n",
    "\n",
    "# run the visualizer for our chosen input function\n",
    "der_viz.draw_it()"
   ]
  },
  {
   "cell_type": "markdown",
   "metadata": {
    "slideshow": {
     "slide_type": "subslide"
    }
   },
   "source": [
    "## Higher order derivative notation\n",
    "\n",
    "Often expressed using more compact notation than given above.  "
   ]
  },
  {
   "cell_type": "markdown",
   "metadata": {
    "slideshow": {
     "slide_type": "fragment"
    }
   },
   "source": [
    "For example, the second derivative is very often denoted more compactly as\n",
    "\n",
    "\\begin{equation}\n",
    "\\frac{\\mathrm{d^2}}{\\mathrm{d}w^2}g(w) = \\frac{\\mathrm{d}}{\\mathrm{d}w}\\left(\\frac{\\mathrm{d}}{\\mathrm{d}w}g(w)\\right)\n",
    "\\end{equation}"
   ]
  },
  {
   "cell_type": "markdown",
   "metadata": {
    "slideshow": {
     "slide_type": "fragment"
    }
   },
   "source": [
    "In general the $n^{th}$ order derivative is written as\n",
    "\n",
    "\\begin{equation}\n",
    "\\frac{\\mathrm{d^n}}{\\mathrm{d}w^n}g(w) \n",
    "\\end{equation}"
   ]
  },
  {
   "cell_type": "markdown",
   "metadata": {
    "slideshow": {
     "slide_type": "slide"
    }
   },
   "source": [
    "## 1.2  Reminder: the derivative is a mathematical function"
   ]
  },
  {
   "cell_type": "markdown",
   "metadata": {},
   "source": [
    "It is time to declare something about derivatives explicitly that we have thus far said implicitly whenever we have dealt with derivatives thus far: the derivative $\\frac{\\mathrm{d}}{\\mathrm{d}w}$ takes in functions of the form $g(w)$ and outputs functions of the form $h(w)$.  In other words, the derivative is itself a mathematical function that takes in other functions as input, transforms them, and outputs another mathematical function.  The derivative rules we have been leveraging the last few posts - those that define how the derivative transforms elementary functions and operations - define how the derivative behaves on all input constructed out of such fundamental parts.  \n",
    "\n",
    "> The derivative is a mathematical function that takes in a mathematical function as input, transforms it, and outputs another mathematical function.  "
   ]
  },
  {
   "cell_type": "markdown",
   "metadata": {},
   "source": [
    "We may be used to thinking about a mathematical function as something that takes in an input scalar or array and transforms it into some other scalar/array according to a set of rules, but remember the fundamental idea behind a mathematical functions is simply that it is a set of rules for taking in *any* kind of input and transforming it into an output.  Under this definition the derivative certainly qualifies.  "
   ]
  },
  {
   "cell_type": "markdown",
   "metadata": {},
   "source": [
    "Thinking about the derivative as a function we could have used the function-based notation -  where we typically use parenthesis $( \\cdot )$ to denote input - and write the derivative of $g(w)$ as\n",
    "\n",
    "$$\n",
    "\\frac{\\mathrm{d}}{\\mathrm{d}w}\\left(g(w)\\right) = h(w)\n",
    "$$\n",
    "\n",
    "This notation fully expresses the fact that the derivative is a function that takes in $g(w)$ and transforms it into the function $h(w)$.  We have instead used the less-function based notation $\\frac{\\mathrm{d}}{\\mathrm{d}w}g(w)$ both because it is a notational convention, and because there are enough complexities involved with discussing derivatives that up to this point this revelation has not been a priority.  From now on we will use both notations interchangeably."
   ]
  },
  {
   "cell_type": "markdown",
   "metadata": {},
   "source": [
    "## 1.3 The recursive nature of higher order derivatives"
   ]
  },
  {
   "cell_type": "markdown",
   "metadata": {},
   "source": [
    "With the fact that the derivative is a mathematical function in mind, note how this means that higher order derivatives are *compositions of the derivative function with itself*.  For example, the second derivative\n",
    "\n",
    "$$\n",
    "\\frac{\\mathrm{d}}{\\mathrm{d}w}\\left(\\frac{\\mathrm{d}}{\\mathrm{d}w}\\left(g(w)\\right)\\right)\n",
    "$$\n",
    "\n",
    "is a composition of the derivative $\\frac{\\mathrm{d}}{\\mathrm{d}w}(\\cdot)$ with itself.  Likewise the third order derivative is the composition of the derivative with itself two times, and in general an $n^{th}$ order derivative $\\frac{\\mathrm{d^n}}{\\mathrm{d}w^n}g(w)$ is the composition of the derivative $n-1$ times with itself evaluated at $g(w)$.  We can also write the $n^{th}$ order derivative using parenthesis to highlight the fact that it is a (composition) of functions as $\\frac{\\mathrm{d^n}}{\\mathrm{d}w^n}\\left(g(w)\\right)$.  This fact has enormous repercussions for the practical computing of derivatives *because function compositions are recursive*, and so can be made into very efficiently subroutines.\n",
    "\n",
    "> The $n^{th}$ order derivative $\\frac{\\mathrm{d^n}}{\\mathrm{d}w^n}\\left(g(w)\\right)$ is a composition of the derivative $n-1$ times with itself evaluated at the input $g(w)$.  This fact has enormous repercussions for the practical computing of derivatives *because function compositions are recursive*."
   ]
  },
  {
   "cell_type": "markdown",
   "metadata": {},
   "source": [
    "It is not surprising then that the practical computing of order derivatives - being recursive functions - can be then computed recursviely.  We describe how these recursive computations are performed by hand, and then encode these principles in an update Automatic Differentiation framework in the Section following this one. "
   ]
  },
  {
   "cell_type": "markdown",
   "metadata": {},
   "source": [
    "## 1.3 Computing higher order derivatives via the forward mode"
   ]
  },
  {
   "cell_type": "markdown",
   "metadata": {},
   "source": [
    "In this short subsection we walk through higher order derivative calculations for a number of simple examples.  As with the first order derivative calculations, these are performed by crawling *forward* through the computation graph of the function, calculating $\\frac{\\mathrm{d^n}}{\\mathrm{d}w^n}$ at each node.  As with the first order calculations, all higher order derivative calculations decompose into a set of small recursive derivative calculations at each children-parent group of nodes, with derivative information flowing from children to parent nodes in such a way that minimal computations are required at each node in the graph."
   ]
  },
  {
   "cell_type": "markdown",
   "metadata": {},
   "source": [
    "#### <span style=\"color:#a50e3e;\">Example. </span> Calculating higher order derivatives of $g(w)=w^4$ recursively"
   ]
  },
  {
   "cell_type": "markdown",
   "metadata": {},
   "source": [
    "We first draw out the computation graph for this function, which is very simple."
   ]
  },
  {
   "cell_type": "markdown",
   "metadata": {},
   "source": [
    "<p><img src=\"../../mlrefined_images/calculus_images/onenode_graph.png\" width=\"20%\" height=\"auto\"></p>"
   ]
  },
  {
   "cell_type": "markdown",
   "metadata": {},
   "source": [
    "To compute the first derivative $\\frac{\\mathrm{d}}{\\mathrm{d}w} g(w) = \\frac{\\mathrm{d}}{\\mathrm{d}w} a(w)$ here we apply the power rule, and to compute the derivative of order $n$  $\\frac{\\mathrm{d}^n}{\\mathrm{d}w^n} a(w)$ we *recursively* apply the power rule $n$ times.  For the case $n=3$ we have"
   ]
  },
  {
   "cell_type": "markdown",
   "metadata": {},
   "source": [
    "\\begin{array}\n",
    "\\\n",
    "\\frac{\\mathrm{d}^3}{\\mathrm{d}w^3} a(w) = \\\\ \\frac{\\mathrm{d}^2}{\\mathrm{d}w^2} 4\\times w^3 = \\\\\n",
    "\\frac{\\mathrm{d}}{\\mathrm{d}w} 4\\times 3 \\times w^2 = \\\\\n",
    " 4\\times 3 \\times 2 w = 24w \\\\\n",
    "\\end{array}"
   ]
  },
  {
   "cell_type": "markdown",
   "metadata": {},
   "source": [
    "#### <span style=\"color:#a50e3e;\">Example. </span> Higher order derivative calculations of $g(w) = \\text{sin}(w^3)$ going  forwards through the computation graph"
   ]
  },
  {
   "cell_type": "markdown",
   "metadata": {},
   "source": [
    "Lets look at how computation flows on the graph of this function when calculating higher order derivatives.  First, we plot the simple computation graph decomposing this equation."
   ]
  },
  {
   "cell_type": "markdown",
   "metadata": {},
   "source": [
    "<p><img src=\"../../mlrefined_images/calculus_images/higher_order_0.png\" width=\"100%\" height=\"auto\"></p>"
   ]
  },
  {
   "cell_type": "markdown",
   "metadata": {},
   "source": [
    "We begin by looking at how the second order derivative  $\\frac{\\mathrm{d}^2}{\\mathrm{d}w^2}g(w) = \\frac{\\mathrm{d}^2}{\\mathrm{d}w^2}b(a)$ is computed on the graph."
   ]
  },
  {
   "cell_type": "markdown",
   "metadata": {},
   "source": [
    "Starting at node $a$ we compute the first and second order derivatives with respect to $w$.\n",
    "\n",
    "<p><img src=\"../../mlrefined_images/calculus_images/higher_order_1.png\" width=\"100%\" height=\"auto\"></p>\n",
    "\n",
    "Since $a(w) = w^3$ the first and second derivatives are directly given by recursively applying the power rule as \n",
    "\n",
    "\\begin{array}\n",
    "\\\n",
    "\\frac{\\mathrm{d}}{\\mathrm{d}w}a(w) = 3\\times w^2 \\\\\n",
    "\\frac{\\mathrm{d}^2}{\\mathrm{d}w^2}a(w) = 3\\times 2 \\times w = 6w\\\\\n",
    "\\end{array}"
   ]
  },
  {
   "cell_type": "markdown",
   "metadata": {},
   "source": [
    "Moving forward on the graph we are now at node $b$, where we need to again compute the first and second derivatives with respect to $w$. In other words, we need to recursively apply the derivative function to $b(a)$.\n",
    "\n",
    "<p><img src=\"../../mlrefined_images/calculus_images/higher_order_2.png\" width=\"100%\" height=\"auto\"></p>"
   ]
  },
  {
   "cell_type": "markdown",
   "metadata": {},
   "source": [
    "As usual with the first derivative we must use the chain rule from Table 2, writing the derivative formally as \n",
    "\n",
    "$$\n",
    "\\frac{\\mathrm{d}}{\\mathrm{d}w}b(a) = \\frac{\\mathrm{d}}{\\mathrm{d}a}b(a)\\frac{\\mathrm{d}}{\\mathrm{d}w}a(w)  \\\\\n",
    "$$"
   ]
  },
  {
   "cell_type": "markdown",
   "metadata": {},
   "source": [
    "To compute the formal value of this derivative we need only use the lookup table to compute $\\frac{\\mathrm{d}}{\\mathrm{d}a}b(a) = \\text{cos}(a)=\\text{cos}(w^3)$, and since we have already computed $\\frac{\\mathrm{d}}{\\mathrm{d}w}a(w)$ we have\n",
    "\n",
    "$$\n",
    "\\frac{\\mathrm{d}}{\\mathrm{d}w}b(a) = 3\\text{cos}(w^3)w^2\n",
    "$$"
   ]
  },
  {
   "cell_type": "markdown",
   "metadata": {},
   "source": [
    "Now, notice that taking the second derivative means taking the derivative of a *product of two functions of $w$*, i.e., $\\frac{\\mathrm{d}}{\\mathrm{d}a}b(a)$ and $\\frac{\\mathrm{d}}{\\mathrm{d}w}a(w)$ and so we must use the product rule.  Writing out the derivative using the product rule we have"
   ]
  },
  {
   "cell_type": "markdown",
   "metadata": {},
   "source": [
    "$$\n",
    "\\frac{\\mathrm{d}^2}{\\mathrm{d}w^2}b(a) = \\frac{\\mathrm{d}}{\\mathrm{d}a}b(a)\\frac{\\mathrm{d}}{\\mathrm{d}w}\\left(\\frac{\\mathrm{d}}{\\mathrm{d}w}a(w)\\right) + \\frac{\\mathrm{d}}{\\mathrm{d}w}\\left(\\frac{\\mathrm{d}}{\\mathrm{d}a}b(a)\\right)\\frac{\\mathrm{d}}{\\mathrm{d}w}a(w)\n",
    "$$"
   ]
  },
  {
   "cell_type": "markdown",
   "metadata": {},
   "source": [
    "However once again we have already computed all but one of the quantities on the right hand side above $\\frac{\\mathrm{d}}{\\mathrm{d}w}\\left(\\frac{\\mathrm{d}}{\\mathrm{d}a}b(a)\\right)$, which to compute we use the chain rule\n",
    "\n",
    "$$\n",
    "\\frac{\\mathrm{d}}{\\mathrm{d}w}\\left(\\frac{\\mathrm{d}}{\\mathrm{d}a}b(a)\\right) = \\frac{\\mathrm{d}^2}{\\mathrm{d}a^2}b(a)\\frac{\\mathrm{d}}{\\mathrm{d}w}a(w)\n",
    "$$\n",
    "\n",
    "Then since we can easily compute $\\frac{\\mathrm{d}^2}{\\mathrm{d}a^2}b(a) = -\\text{sin}(a)$ and we already have $\\frac{\\mathrm{d}}{\\mathrm{d}w}a(w) = 3w^2$ together we have $\\frac{\\mathrm{d}}{\\mathrm{d}w}\\left(\\frac{\\mathrm{d}}{\\mathrm{d}a}b(a)\\right) = -\\text{sin}(w^3)3w^2$."
   ]
  },
  {
   "cell_type": "markdown",
   "metadata": {},
   "source": [
    "With this computation complete we have \n",
    "\n",
    "$$\n",
    "\\frac{\\mathrm{d}^2}{\\mathrm{d}w^2}b(a) =  \\text{cos}(w^3)\\times 6w -\\text{sin}(w^3)3w^2 \\times 3w^2\n",
    "$$"
   ]
  },
  {
   "cell_type": "markdown",
   "metadata": {},
   "source": [
    "# 2  Automatic Differentiation of higher order derivative values"
   ]
  },
  {
   "cell_type": "markdown",
   "metadata": {},
   "source": [
    "In this Section we describe how to adjust the Automatic Differentiation (AD) paradigm [discussed in the previous post]() so that we can compute higher order derivatives with it.   "
   ]
  },
  {
   "cell_type": "markdown",
   "metadata": {},
   "source": [
    "## 2.1 Information flow and construction of the computation graph"
   ]
  },
  {
   "cell_type": "markdown",
   "metadata": {},
   "source": [
    "As with the first AD implementation, this implementation computes derivatives traveling *forward* through the computation graph - and so is referred to as the *forward* mode AD.  Once again we do not parse a function beforehand to explicitly store / manipulate its computation graph, but perform these operations implicitly.  This allows us to construct a light weight higher order AD calculator rather quickly that - when combined with operator overloading - is also very easy to use."
   ]
  },
  {
   "cell_type": "markdown",
   "metadata": {},
   "source": [
    "## 2.2  What do we need to track while computing?"
   ]
  },
  {
   "cell_type": "markdown",
   "metadata": {},
   "source": [
    "In the first order calculator developed in the previous post, our basic unit of manipulation consisted of two entries: the current function and (first order) derivative evaluations.  This reflected the fact that - as we saw with  hand calculations of first derivatives - that when computing a derivative via the forward mode both function and derivative information recursively flow from children to parent nodes in the computation graph.  \n",
    "\n",
    "In the previous Section we have analogously seen how when computing a derivative of order $n$ using the forward mode, that the function value as well as every derivative up to and including order $n$ flows recursively from children to parent nodes.  To reflect this difference, in building our AD calculator for higher order derivative computations we first extend our original AD input tuple to include the function value, as well as the value of every derivative of order up to and including order $n$.  \n",
    "\n",
    "> The AD calculator for computing higher order derivatives employs derivative rules recursively in the same manner as we applied by hand but produces a *program-based function* of the derivative, i.e., a subroutine that provides correct evaluation of the mathematical function and its derivatives up to a desired order for any input.  Because of this the fundamental object on which the AD calculator operates on is a tuple of values consisting of the evaluation of the function and as well as every derivative of order up to and equal to $n$.\n",
    "\n",
    "We do this by defining the original tuple class we used for first order computations in the next cell..."
   ]
  },
  {
   "cell_type": "code",
   "execution_count": 4,
   "metadata": {
    "collapsed": true
   },
   "outputs": [],
   "source": [
    "class MyTuple:\n",
    "    '''\n",
    "    The basic object manipulated by an AD calculator\n",
    "    Instances of this class is a tuple containining one \n",
    "    function/derivative evaluation.\n",
    "    '''\n",
    "    def __init__(self,**kwargs):\n",
    "        # variables for the value (val) and derivative (der) of our input function \n",
    "        self.val = 0\n",
    "        self.der = 1    \n",
    "                \n",
    "        # re-assign these default values \n",
    "        if 'val' in kwargs:\n",
    "            self.val = kwargs['val']\n",
    "        if 'der' in kwargs:\n",
    "            self.der = kwargs['der']   "
   ]
  },
  {
   "cell_type": "markdown",
   "metadata": {},
   "source": [
    "... and then in the next cell recurse on this definition to create a convenient object that will carry these values or arbitrary order calculations."
   ]
  },
  {
   "cell_type": "code",
   "execution_count": 5,
   "metadata": {
    "collapsed": true
   },
   "outputs": [],
   "source": [
    "# make element capable or desired order calculations, will contain the function value as well as every derivative value up to and equal n         \n",
    "def choose_order(order,**kwargs):\n",
    "    # initialize first \n",
    "    w = MyTuple()\n",
    "    if 'val' in kwargs:\n",
    "        w = MyTuple(val = kwargs['val'])\n",
    "        \n",
    "    # recurse to create higher order derivative object\n",
    "    for i in range(order-1):\n",
    "        w = MyTuple(val = w)\n",
    "    return(w)   "
   ]
  },
  {
   "cell_type": "markdown",
   "metadata": {},
   "source": [
    "When computing the derivative of order $n$ for some input function the object returned by ```choose_order``` is essentially an array of length $n+1$ with a tree-based structure."
   ]
  },
  {
   "cell_type": "markdown",
   "metadata": {},
   "source": [
    "## 2.3 Creating derivative rules for elementary operations"
   ]
  },
  {
   "cell_type": "markdown",
   "metadata": {},
   "source": [
    "To build effective recursion for each derivative rule we define the operation rules prior to those for each elementary function. Why?  Because they need not be changed: as defined for the first order calculator the operational rules are naturally recursive.  We repeat these here, adding a few more like negation and subtraction."
   ]
  },
  {
   "cell_type": "code",
   "execution_count": 6,
   "metadata": {
    "collapsed": true
   },
   "outputs": [],
   "source": [
    "# our implementation of the addition rules from Table 2\n",
    "def multiply(a,b):\n",
    "    # Create output evaluation and derivative object\n",
    "    c = MyTuple()\n",
    "\n",
    "    # switch to determine if a or b is a constant\n",
    "    if type(a) != MyTuple:\n",
    "        c.val = a*b.val\n",
    "        c.der = a*b.der\n",
    "    elif type(b) != MyTuple:\n",
    "        c.val = a.val*b\n",
    "        c.der = a.der*b\n",
    "    else: # both inputs are MyTuple objects\n",
    "        c.val = a.val*b.val\n",
    "        c.der = a.der*b.val + a.val*b.der     # product rule\n",
    "    \n",
    "    # Return updated object\n",
    "    return c"
   ]
  },
  {
   "cell_type": "code",
   "execution_count": 7,
   "metadata": {
    "collapsed": true
   },
   "outputs": [],
   "source": [
    "# our implementation of the addition rules from Table 2\n",
    "def add(a,b):\n",
    "    # Create output evaluation and derivative object\n",
    "    c = MyTuple()\n",
    "    \n",
    "    # switch to determine if a or b is a constant\n",
    "    if type(a) != MyTuple:\n",
    "        c.val = a + b.val\n",
    "        c.der = b.der\n",
    "    elif type(b) != MyTuple:\n",
    "        c.val = a.val + b\n",
    "        c.der = a.der\n",
    "    else: # both inputs are MyTuple objects\n",
    "        c.val = a.val + b.val\n",
    "        c.der = a.der + b.der\n",
    "    \n",
    "    # Return updated object\n",
    "    return c"
   ]
  },
  {
   "cell_type": "code",
   "execution_count": 8,
   "metadata": {
    "collapsed": true
   },
   "outputs": [],
   "source": [
    "# our implementation of the addition rules from Table 2\n",
    "def subtract(a,b):\n",
    "    # Create output evaluation and derivative object\n",
    "    c = MyTuple()\n",
    "    \n",
    "    # switch to determine if a or b is a constant\n",
    "    if type(a) != MyTuple:\n",
    "        c.val = a - b.val\n",
    "        c.der = b.der\n",
    "    elif type(b) != MyTuple:\n",
    "        c.val = a.val - b\n",
    "        c.der = a.der\n",
    "    else: # both inputs are MyTuple objects\n",
    "        c.val = a.val - b.val\n",
    "        c.der = a.der - b.der\n",
    "    \n",
    "    # Return updated object\n",
    "    return c"
   ]
  },
  {
   "cell_type": "code",
   "execution_count": 9,
   "metadata": {
    "collapsed": true
   },
   "outputs": [],
   "source": [
    "# define negation\n",
    "def negate(a):\n",
    "    # Create output evaluation and derivative object\n",
    "    b = MyTuple()\n",
    "    b.val = -a.val\n",
    "    b.der = -a.der\n",
    "    return b"
   ]
  },
  {
   "cell_type": "markdown",
   "metadata": {},
   "source": [
    "We then overload these operators in the next cell."
   ]
  },
  {
   "cell_type": "code",
   "execution_count": 19,
   "metadata": {
    "collapsed": true
   },
   "outputs": [],
   "source": [
    "# this next line overloads the addition operator for our MyTuple objects, or in other words adds the 'add' function to our MyTuple class definition on the fly\n",
    "MyTuple.__add__ = add\n",
    "\n",
    "# overload the reverse direction so that a + b = b + a\n",
    "MyTuple.__radd__ = add\n",
    "\n",
    "# this next line overloads the subtraction operator for our MyTuple objects, or in other words adds the 'add' function to our MyTuple class definition on the fly\n",
    "MyTuple.__sub__ = subtract\n",
    "\n",
    "# overload the reverse direction so that a + b = b + a\n",
    "MyTuple.__rsub__ = subtract\n",
    "\n",
    "# create two MyTuple objects and try to use Python's built in function assigned to the * operator on them\n",
    "MyTuple.__mul__ = multiply\n",
    "\n",
    "# overload the 'reverse multiplication' so that a*b = b*a\n",
    "MyTuple.__rmul__ = multiply    \n",
    "\n",
    "# create two MyTuple objects and try to use Python's built in function assigned to the ** operator on them\n",
    "MyTuple.__pow__ = power\n",
    "\n",
    "# create two MyTuple objects and try to use Python's built in function assigned to the ** operator on them\n",
    "MyTuple.__neg__ = negate"
   ]
  },
  {
   "cell_type": "markdown",
   "metadata": {},
   "source": [
    "## 2.4  Creating derivative rules for elementary functions"
   ]
  },
  {
   "cell_type": "markdown",
   "metadata": {},
   "source": [
    "While the derivative operation rules as employed with the first derivative AD calculator were naturally recursive, not all of those defined previously for the elementary functions were.  Here we describe the small adjustment that needs to be made to each to make them so."
   ]
  },
  {
   "cell_type": "markdown",
   "metadata": {},
   "source": [
    "#### <span style=\"color:#a50e3e;\">Example. </span> The power rule"
   ]
  },
  {
   "cell_type": "markdown",
   "metadata": {},
   "source": [
    "Because we have already defined how multiplication treats MyTuple objects, the power rule as defined previously"
   ]
  },
  {
   "cell_type": "code",
   "execution_count": 20,
   "metadata": {
    "collapsed": true
   },
   "outputs": [],
   "source": [
    "# our implementation of the power rule from Table 1 \n",
    "def power(a,n):\n",
    "    # Create output evaluation and derivative object\n",
    "    b = MyTuple()\n",
    "    \n",
    "    # Produce new function value - once '**' is overloaded this line will be recursive for MyTuple objects\n",
    "    b.val = a.val**n\n",
    "\n",
    "    # Produce new derivative value - once '**' is overloaded this line will be recursive for MyTuple objects\n",
    "    b.der = n*(a.val**(n-1))*a.der\n",
    "    \n",
    "    # Return updated object\n",
    "    return b"
   ]
  },
  {
   "cell_type": "markdown",
   "metadata": {},
   "source": [
    "can be used immediately to compute higher order derivatives once we overload the ```**``` operator to make both the function and derivative updates recursive on MyTuple objects"
   ]
  },
  {
   "cell_type": "code",
   "execution_count": 21,
   "metadata": {
    "collapsed": true
   },
   "outputs": [],
   "source": [
    "# create two MyTuple objects and try to use Python's built in function assigned to the ** operator on them\n",
    "MyTuple.__pow__ = power"
   ]
  },
  {
   "cell_type": "markdown",
   "metadata": {},
   "source": [
    "Now we can compute e.g., the third derivative of $g(w) = w^4$ as in the next Python cell."
   ]
  },
  {
   "cell_type": "code",
   "execution_count": 22,
   "metadata": {},
   "outputs": [
    {
     "data": {
      "image/png": "[encoded data removed]",
      "text/plain": [
       "<matplotlib.figure.Figure at 0x113c79f98>"
      ]
     },
     "metadata": {},
     "output_type": "display_data"
    }
   ],
   "source": [
    "# create instance of our function to differentiate - notice this uses our homemade sine function not numpy's\n",
    "g = lambda w: w**4 + 10\n",
    "w = np.linspace(-2,2,1000)\n",
    "\n",
    "# use the custom plotting function above to plot over a large range of inputs\n",
    "calclib.plotter.ad_derval_plot(MyTuple,g,w=w,order=3)"
   ]
  },
  {
   "cell_type": "markdown",
   "metadata": {},
   "source": [
    "#### <span style=\"color:#a50e3e;\">Example. </span> Recursive derivative rule for $g(w) = \\text{tanh}(w)$"
   ]
  },
  {
   "cell_type": "markdown",
   "metadata": {},
   "source": [
    "We can easily adjust the tanh derivative rule to define higher order derivatives recursively.  We simply add a branch that re-evaluates the tanh function when the input is not a scalar value."
   ]
  },
  {
   "cell_type": "code",
   "execution_count": 23,
   "metadata": {
    "collapsed": true
   },
   "outputs": [],
   "source": [
    "# our implementation of the power rule from Table 1 \n",
    "def tanh(a):\n",
    "    # Create output evaluation and derivative object\n",
    "    b = MyTuple()\n",
    "    \n",
    "    # check if .val is constant, then last derivative to evaluate\n",
    "    if type(a.val) != MyTuple:        \n",
    "        # Calculate new current value\n",
    "        b.val = np.tanh(a.val)\n",
    "\n",
    "        # Calculate new current derivative value\n",
    "        b.der = (1 - np.tanh(a.val)**2)*a.der\n",
    "    else:    # the recursive branch\n",
    "        # Calculate new current value\n",
    "        b.val = tanh(a.val)\n",
    "\n",
    "        # Calculate new current derivative value\n",
    "        b.der = (1 - tanh(a.val)**2)*a.der\n",
    "    \n",
    "    # Return updated object\n",
    "    return b"
   ]
  },
  {
   "cell_type": "markdown",
   "metadata": {},
   "source": [
    "With our tanh function defined we can employ it to calculate general order derivatives of a wide range of functions.  For example, lets compute the fourth order derivative of\n",
    "\n",
    "$$\n",
    "g(w) = \\text{tanh}(w^2)\n",
    "$$\n",
    "\n",
    "We do this in the next Python cell."
   ]
  },
  {
   "cell_type": "code",
   "execution_count": 24,
   "metadata": {},
   "outputs": [
    {
     "data": {
      "image/png": "[encoded data removed]",
      "text/plain": [
       "<matplotlib.figure.Figure at 0x1180ab5c0>"
      ]
     },
     "metadata": {},
     "output_type": "display_data"
    }
   ],
   "source": [
    "# create instance of our function to differentiate - notice this uses our homemade sine function not numpy's\n",
    "g = lambda w: tanh(w**2)\n",
    "w = np.linspace(-5,5,1000)\n",
    "\n",
    "# use the custom plotting function above to plot over a large range of inputs\n",
    "calclib.plotter.ad_derval_plot(MyTuple,g,w=w,order=4)"
   ]
  },
  {
   "cell_type": "markdown",
   "metadata": {},
   "source": [
    "#### <span style=\"color:#a50e3e;\">Example. </span> Recursive derivative rule for $g(w) = \\text{sin}(w)$"
   ]
  },
  {
   "cell_type": "markdown",
   "metadata": {},
   "source": [
    "To extend the sinusoid derivative rule we add a switch to the original function we made for the first order calculator.  This routes the derivative recursively when the input to the derivative function is itself a MyTuple object."
   ]
  },
  {
   "cell_type": "code",
   "execution_count": 25,
   "metadata": {
    "collapsed": true
   },
   "outputs": [],
   "source": [
    "# our homemade sine function - made general to accept a function as input (hence the explicit application of the chain rule)\n",
    "def sin(a):\n",
    "    # Create output evaluation and derivative object\n",
    "    b = MyTuple()\n",
    "    \n",
    "    # check if .val is constant, then last derivative to evaluate\n",
    "    if type(a.val) != MyTuple:        \n",
    "        # Calculate new current value\n",
    "        b.val = np.sin(a.val)\n",
    "\n",
    "        # Calculate new current derivative value\n",
    "        b.der = np.cos(a.val)*a.der\n",
    "    else:  # the new recursive branch\n",
    "        # Calculate new current value\n",
    "        b.val = sin(a.val)\n",
    "\n",
    "        # Calculate new current derivative value\n",
    "        b.der = cos(a.val)*a.der\n",
    "\n",
    "    # Return updated object\n",
    "    return b"
   ]
  },
  {
   "cell_type": "markdown",
   "metadata": {},
   "source": [
    "Because the recursive branch here calls for us to push a MyTuple object through cosine, we need to construct this as well.  It essentially mirrors the sine function above, with a recursive branch to deal with MyTuple objects."
   ]
  },
  {
   "cell_type": "code",
   "execution_count": 26,
   "metadata": {
    "collapsed": true
   },
   "outputs": [],
   "source": [
    "# our homemade sine function - made general to accept a function as input (hence the explicit application of the chain rule)\n",
    "def cos(a):\n",
    "    # Create output evaluation and derivative object\n",
    "    b = MyTuple()\n",
    "    \n",
    "    # check if .val is constant, then last derivative to evaluate\n",
    "    if type(a.val) != MyTuple:        \n",
    "        # Calculate new current value\n",
    "        b.val = np.cos(a.val)\n",
    "\n",
    "        # Calculate new current derivative value\n",
    "        b.der = -np.sin(a.val)*a.der\n",
    "    else:\n",
    "        # Calculate new current value\n",
    "        b.val = cos(a.val)\n",
    "\n",
    "        # Calculate new current derivative value\n",
    "        b.der = -sin(a.val)*a.der\n",
    "\n",
    "    # Return updated object\n",
    "    return b"
   ]
  },
  {
   "cell_type": "markdown",
   "metadata": {},
   "source": [
    "We can then put this to work on a simple test case \n",
    "\n",
    "$$\n",
    "g(w) = \\text{cos}(w) + 10\n",
    "$$\n",
    "\n",
    "and lets compute its fourth derivative.  Using the rules\n",
    "\n",
    "$$\n",
    "\\frac{\\mathrm{d}^4}{\\mathrm{d}w^4}g(w) = \\text{cos}(w)\n",
    "$$"
   ]
  },
  {
   "cell_type": "code",
   "execution_count": 27,
   "metadata": {},
   "outputs": [
    {
     "data": {
      "image/png": "[encoded data removed]",
      "text/plain": [
       "<matplotlib.figure.Figure at 0x117edb470>"
      ]
     },
     "metadata": {},
     "output_type": "display_data"
    }
   ],
   "source": [
    "# create instance of our function to differentiate - notice this uses our homemade sine function not numpy's\n",
    "g = lambda w: cos(w) + 10\n",
    "w = np.linspace(-10,10,1000)\n",
    "\n",
    "# use the custom plotting function above to plot over a large range of inputs\n",
    "calclib.plotter.ad_derval_plot(MyTuple,g,w=w,order=4)"
   ]
  },
  {
   "cell_type": "markdown",
   "metadata": {},
   "source": [
    "Another example, how about \n",
    "\n",
    "$$\n",
    "g(w) = \\text{sin}(w^3)\n",
    "$$\n",
    "\n",
    "and we take the $3^{rd}$ derivative of this."
   ]
  },
  {
   "cell_type": "code",
   "execution_count": 28,
   "metadata": {},
   "outputs": [
    {
     "data": {
      "image/png": "[encoded data removed]",
      "text/plain": [
       "<matplotlib.figure.Figure at 0x1178154a8>"
      ]
     },
     "metadata": {},
     "output_type": "display_data"
    }
   ],
   "source": [
    "# create instance of our function to differentiate - notice this uses our homemade sine function not numpy's\n",
    "g = lambda w: sin(w**3)\n",
    "w = np.linspace(-3,3,1000)\n",
    "\n",
    "# use the custom plotting function above to plot over a large range of inputs\n",
    "calclib.plotter.ad_derval_plot(MyTuple,g,w=w,order=3)"
   ]
  },
  {
   "cell_type": "markdown",
   "metadata": {},
   "source": [
    "Another example, how about \n",
    "\n",
    "$$\n",
    "g(w) = \\text{sin}(w^2)\\text{tanh}^2(w)\\text{cos}(10w) + w\n",
    "$$\n",
    "\n",
    "and we take the $2^{nd}$ derivative of this."
   ]
  },
  {
   "cell_type": "code",
   "execution_count": 29,
   "metadata": {},
   "outputs": [
    {
     "data": {
      "image/png": "[encoded data removed]",
      "text/plain": [
       "<matplotlib.figure.Figure at 0x118002dd8>"
      ]
     },
     "metadata": {},
     "output_type": "display_data"
    }
   ],
   "source": [
    "# create instance of our function to differentiate - notice this uses our homemade sine function not numpy's\n",
    "g = lambda w: sin(w**2)*tanh(w)**2*cos(10*w) + w\n",
    "w = np.linspace(-3,3,1000)\n",
    "\n",
    "# use the custom plotting function above to plot over a large range of inputs\n",
    "calclib.plotter.ad_derval_plot(MyTuple,g,w=w,order=2)"
   ]
  },
  {
   "cell_type": "markdown",
   "metadata": {},
   "source": [
    "<blockquote style=\"border-left: 5px solid; border-left-color: #ccc; background: white;\"><p>The content of this notebook is supplementary material for the textbook Machine Learning Refined (Cambridge University Press, 2016). Visit <a href=\"http://mlrefined.com\">http://mlrefined.com</a> for free chapter downloads and tutorials, and <a href=\"https://www.amazon.com/Machine-Learning-Refined-Foundations-Applications/dp/1107123526/ref=sr_1_1?ie=UTF8&amp;qid=1474491657&amp;sr=8-1&amp;keywords=machine+learning+refined\">our Amazon site</a> for details regarding a hard copy of the text.</p>\n",
    "</blockquote>"
   ]
  }
 ],
 "metadata": {
  "celltoolbar": "Slideshow",
  "kernelspec": {
   "display_name": "Python 3",
   "language": "python",
   "name": "python3"
  },
  "language_info": {
   "codemirror_mode": {
    "name": "ipython",
    "version": 3
   },
   "file_extension": ".py",
   "mimetype": "text/x-python",
   "name": "python",
   "nbconvert_exporter": "python",
   "pygments_lexer": "ipython3",
   "version": "3.5.3"
  },
  "toc": {
   "colors": {
    "hover_highlight": "#DAA520",
    "navigate_num": "#000000",
    "navigate_text": "#333333",
    "running_highlight": "#FF0000",
    "selected_highlight": "#FFD700",
    "sidebar_border": "#EEEEEE",
    "wrapper_background": "#FFFFFF"
   },
   "moveMenuLeft": true,
   "nav_menu": {
    "height": "102px",
    "width": "252px"
   },
   "navigate_menu": true,
   "number_sections": false,
   "sideBar": true,
   "threshold": 4,
   "toc_cell": false,
   "toc_section_display": "block",
   "toc_window_display": false,
   "widenNotebook": false
  }
 },
 "nbformat": 4,
 "nbformat_minor": 2
}
